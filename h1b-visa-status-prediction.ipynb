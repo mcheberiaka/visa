{
 "cells": [
  {
   "cell_type": "markdown",
   "metadata": {
    "_uuid": "594fefdf5f21df93cca9519027d46cb5a0de3dc8"
   },
   "source": [
    "# H1B Visa Petitions Decision Prediction"
   ]
  },
  {
   "cell_type": "markdown",
   "metadata": {
    "_uuid": "206994881913ba42bf37f7a7cf288d1ea7572a75"
   },
   "source": [
    "### Step 1: Import everything at once for the complete project at a single instance"
   ]
  },
  {
   "cell_type": "code",
   "execution_count": 1,
   "metadata": {
    "_uuid": "f20df72828cd5dd3ea4a3943500dd91644e5fed7"
   },
   "outputs": [],
   "source": [
    "##basic library - Pandas and Numpy\n",
    "import pandas as pd\n",
    "import numpy as np\n",
    "\n",
    "## Imports for Data Consistency - String Match\n",
    "import difflib as dff\n",
    "\n",
    "## Imports for different type of classfiers\n",
    "from sklearn import tree # <- Decision- Trees\n",
    "from sklearn import svm # <- Support Vector Machines\n",
    "import sklearn.linear_model as linear_model # <- Logisitic Regression - Sigmoid Function on the Linear Regression\n",
    "from sklearn.ensemble import RandomForestClassifier # <- Random Forest Classifier\n",
    "from sklearn.neural_network import MLPClassifier # <- Neural Networks\n",
    "from sklearn.naive_bayes import GaussianNB # <- Gaussian Naive-Bayes Classifier\n",
    "\n",
    "## Imports for recursive feature elimination\n",
    "from sklearn.feature_selection import RFE\n",
    "from sklearn.linear_model import LogisticRegression\n",
    "\n",
    "## Imports for splitting the data into training and test data\n",
    "from sklearn.model_selection import train_test_split\n",
    "\n",
    "## Imports for evaluating the different classifier models selected\n",
    "import sklearn.metrics as metrics\n",
    "from sklearn import preprocessing\n",
    "\n",
    "## Data Visualisation\n",
    "import matplotlib.pyplot as plt\n",
    "%matplotlib inline"
   ]
  },
  {
   "cell_type": "markdown",
   "metadata": {
    "_uuid": "e5016db32d5afafff39a69c9102111b5d9a932c8"
   },
   "source": [
    "### Step 2: Import the data and load it into a pandas dataframe for further cleaning and Analysis"
   ]
  },
  {
   "cell_type": "code",
   "execution_count": 2,
   "metadata": {
    "_uuid": "8210411ea4b5040de6536948833cce6af5657613"
   },
   "outputs": [],
   "source": [
    "## Input the data's absolute/relative path from the user\n",
    "path_excel = \"h1b_train.csv\""
   ]
  },
  {
   "cell_type": "code",
   "execution_count": 3,
   "metadata": {
    "_uuid": "db5ec27b5f55334ee014c4e008fd76192986db3e"
   },
   "outputs": [],
   "source": [
    "## Define the column names and read the data file into a pandas dataframe\n",
    "column_names = ['CASE_STATUS', 'EMPLOYER_NAME','SOC_NAME', 'JOB_TITLE', 'FULL_TIME_POSITION', 'PREVAILING_WAGE', 'FILING_YEAR',\\\n",
    "               'WORKSITE', 'LONGITUDE', 'LATITUDE']\n",
    "table_1 = pd.read_table(path_excel, names = column_names, skiprows = 1, error_bad_lines = False, sep = ',')"
   ]
  },
  {
   "cell_type": "code",
   "execution_count": 4,
   "metadata": {
    "_uuid": "9108ca5a0b3f47470fd52fbf8a7efa5baa43b215"
   },
   "outputs": [],
   "source": [
    "pd.set_option('display.max_colwidth', -1)\n",
    "pd.options.mode.chained_assignment = None"
   ]
  },
  {
   "cell_type": "code",
   "execution_count": 5,
   "metadata": {
    "_uuid": "940814387edf359aa1cf4a336d5c167262d3b94a"
   },
   "outputs": [
    {
     "data": {
      "text/html": [
       "<div>\n",
       "<style scoped>\n",
       "    .dataframe tbody tr th:only-of-type {\n",
       "        vertical-align: middle;\n",
       "    }\n",
       "\n",
       "    .dataframe tbody tr th {\n",
       "        vertical-align: top;\n",
       "    }\n",
       "\n",
       "    .dataframe thead th {\n",
       "        text-align: right;\n",
       "    }\n",
       "</style>\n",
       "<table border=\"1\" class=\"dataframe\">\n",
       "  <thead>\n",
       "    <tr style=\"text-align: right;\">\n",
       "      <th></th>\n",
       "      <th>CASE_STATUS</th>\n",
       "      <th>EMPLOYER_NAME</th>\n",
       "      <th>SOC_NAME</th>\n",
       "      <th>JOB_TITLE</th>\n",
       "      <th>FULL_TIME_POSITION</th>\n",
       "      <th>PREVAILING_WAGE</th>\n",
       "      <th>FILING_YEAR</th>\n",
       "      <th>WORKSITE</th>\n",
       "      <th>LONGITUDE</th>\n",
       "      <th>LATITUDE</th>\n",
       "    </tr>\n",
       "  </thead>\n",
       "  <tbody>\n",
       "    <tr>\n",
       "      <td>1</td>\n",
       "      <td>CERTIFIED-WITHDRAWN</td>\n",
       "      <td>UNIVERSITY OF MICHIGAN</td>\n",
       "      <td>BIOCHEMISTS AND BIOPHYSICISTS</td>\n",
       "      <td>POSTDOCTORAL RESEARCH FELLOW</td>\n",
       "      <td>N</td>\n",
       "      <td>36067.0</td>\n",
       "      <td>2016.0</td>\n",
       "      <td>ANN ARBOR, MICHIGAN</td>\n",
       "      <td>-83.743038</td>\n",
       "      <td>42.280826</td>\n",
       "    </tr>\n",
       "    <tr>\n",
       "      <td>2</td>\n",
       "      <td>CERTIFIED-WITHDRAWN</td>\n",
       "      <td>GOODMAN NETWORKS, INC.</td>\n",
       "      <td>CHIEF EXECUTIVES</td>\n",
       "      <td>CHIEF OPERATING OFFICER</td>\n",
       "      <td>Y</td>\n",
       "      <td>242674.0</td>\n",
       "      <td>2016.0</td>\n",
       "      <td>PLANO, TEXAS</td>\n",
       "      <td>-96.698886</td>\n",
       "      <td>33.019843</td>\n",
       "    </tr>\n",
       "    <tr>\n",
       "      <td>3</td>\n",
       "      <td>CERTIFIED-WITHDRAWN</td>\n",
       "      <td>PORTS AMERICA GROUP, INC.</td>\n",
       "      <td>CHIEF EXECUTIVES</td>\n",
       "      <td>CHIEF PROCESS OFFICER</td>\n",
       "      <td>Y</td>\n",
       "      <td>193066.0</td>\n",
       "      <td>2016.0</td>\n",
       "      <td>JERSEY CITY, NEW JERSEY</td>\n",
       "      <td>-74.077642</td>\n",
       "      <td>40.728158</td>\n",
       "    </tr>\n",
       "    <tr>\n",
       "      <td>4</td>\n",
       "      <td>CERTIFIED-WITHDRAWN</td>\n",
       "      <td>GATES CORPORATION, A WHOLLY-OWNED SUBSIDIARY OF TOMKINS PLC</td>\n",
       "      <td>CHIEF EXECUTIVES</td>\n",
       "      <td>REGIONAL PRESIDEN, AMERICAS</td>\n",
       "      <td>Y</td>\n",
       "      <td>220314.0</td>\n",
       "      <td>2016.0</td>\n",
       "      <td>DENVER, COLORADO</td>\n",
       "      <td>-104.990251</td>\n",
       "      <td>39.739236</td>\n",
       "    </tr>\n",
       "    <tr>\n",
       "      <td>5</td>\n",
       "      <td>WITHDRAWN</td>\n",
       "      <td>PEABODY INVESTMENTS CORP.</td>\n",
       "      <td>CHIEF EXECUTIVES</td>\n",
       "      <td>PRESIDENT MONGOLIA AND INDIA</td>\n",
       "      <td>Y</td>\n",
       "      <td>157518.4</td>\n",
       "      <td>2016.0</td>\n",
       "      <td>ST. LOUIS, MISSOURI</td>\n",
       "      <td>-90.199404</td>\n",
       "      <td>38.627003</td>\n",
       "    </tr>\n",
       "  </tbody>\n",
       "</table>\n",
       "</div>"
      ],
      "text/plain": [
       "           CASE_STATUS  \\\n",
       "1  CERTIFIED-WITHDRAWN   \n",
       "2  CERTIFIED-WITHDRAWN   \n",
       "3  CERTIFIED-WITHDRAWN   \n",
       "4  CERTIFIED-WITHDRAWN   \n",
       "5  WITHDRAWN             \n",
       "\n",
       "                                                 EMPLOYER_NAME  \\\n",
       "1  UNIVERSITY OF MICHIGAN                                        \n",
       "2  GOODMAN NETWORKS, INC.                                        \n",
       "3  PORTS AMERICA GROUP, INC.                                     \n",
       "4  GATES CORPORATION, A WHOLLY-OWNED SUBSIDIARY OF TOMKINS PLC   \n",
       "5  PEABODY INVESTMENTS CORP.                                     \n",
       "\n",
       "                        SOC_NAME                     JOB_TITLE  \\\n",
       "1  BIOCHEMISTS AND BIOPHYSICISTS  POSTDOCTORAL RESEARCH FELLOW   \n",
       "2  CHIEF EXECUTIVES               CHIEF OPERATING OFFICER        \n",
       "3  CHIEF EXECUTIVES               CHIEF PROCESS OFFICER          \n",
       "4  CHIEF EXECUTIVES               REGIONAL PRESIDEN, AMERICAS    \n",
       "5  CHIEF EXECUTIVES               PRESIDENT MONGOLIA AND INDIA   \n",
       "\n",
       "  FULL_TIME_POSITION  PREVAILING_WAGE  FILING_YEAR                 WORKSITE  \\\n",
       "1  N                  36067.0          2016.0       ANN ARBOR, MICHIGAN       \n",
       "2  Y                  242674.0         2016.0       PLANO, TEXAS              \n",
       "3  Y                  193066.0         2016.0       JERSEY CITY, NEW JERSEY   \n",
       "4  Y                  220314.0         2016.0       DENVER, COLORADO          \n",
       "5  Y                  157518.4         2016.0       ST. LOUIS, MISSOURI       \n",
       "\n",
       "    LONGITUDE   LATITUDE  \n",
       "1 -83.743038   42.280826  \n",
       "2 -96.698886   33.019843  \n",
       "3 -74.077642   40.728158  \n",
       "4 -104.990251  39.739236  \n",
       "5 -90.199404   38.627003  "
      ]
     },
     "execution_count": 5,
     "metadata": {},
     "output_type": "execute_result"
    }
   ],
   "source": [
    "table_1.head()"
   ]
  },
  {
   "cell_type": "markdown",
   "metadata": {
    "_uuid": "27f4fc138ec39688c33647a96fbe6173dbd6a7d8"
   },
   "source": [
    "# Data Analysis and Preprocessing "
   ]
  },
  {
   "cell_type": "markdown",
   "metadata": {
    "_uuid": "f9e49c97b6ccfcc00f3acf9d9d7468be1b750623"
   },
   "source": [
    "### Case Status v/s Number of Petitions of the visa petition - Data Analysis1"
   ]
  },
  {
   "cell_type": "code",
   "execution_count": 6,
   "metadata": {
    "_uuid": "de8d09ffb91e22f5b1aa2d51542204167433a8ee"
   },
   "outputs": [
    {
     "data": {
      "image/png": "[encoded data removed]",
      "text/plain": [
       "<Figure size 432x288 with 1 Axes>"
      ]
     },
     "metadata": {
      "needs_background": "light"
     },
     "output_type": "display_data"
    },
    {
     "name": "stdout",
     "output_type": "stream",
     "text": [
      "CERTIFIED                                             2615623\n",
      "CERTIFIED-WITHDRAWN                                   202659 \n",
      "DENIED                                                94346  \n",
      "WITHDRAWN                                             89799  \n",
      "PENDING QUALITY AND COMPLIANCE REVIEW - UNASSIGNED    15     \n",
      "REJECTED                                              2      \n",
      "INVALIDATED                                           1      \n",
      "Name: CASE_STATUS, dtype: int64\n"
     ]
    }
   ],
   "source": [
    "plot_status_numberinit = table_1['CASE_STATUS'].value_counts().plot(title = 'CASE STATUS vs NUMBER OF PETITIONS', \\\n",
    "                                                                kind = 'barh', color = 'green')\n",
    "plot_status_numberinit.set_xlabel(\"CASE STATUS\")\n",
    "plot_status_numberinit.set_ylabel(\"NUMBER OF PETITIONS\")\n",
    "plt.show()\n",
    "print(table_1['CASE_STATUS'].value_counts())"
   ]
  },
  {
   "cell_type": "markdown",
   "metadata": {
    "_uuid": "753f9aa574d35c7c901a08e1dbf3117feb90c6c8"
   },
   "source": [
    "Data Type and String Data Format conversion to upper case"
   ]
  },
  {
   "cell_type": "code",
   "execution_count": 7,
   "metadata": {
    "_uuid": "d41e9126fceef68d0a06eb3f27c68d1ff3301ac6"
   },
   "outputs": [],
   "source": [
    "table_2 = table_1.loc[table_1['CASE_STATUS'].isin([\"CERTIFIED\", \"DENIED\", \"REJECTED\"])]"
   ]
  },
  {
   "cell_type": "code",
   "execution_count": 8,
   "metadata": {
    "_uuid": "b1582c3fbb079b46481bb5b04cc8432e302df355"
   },
   "outputs": [],
   "source": [
    "table_2['FILING_YEAR'] = table_2['FILING_YEAR'].astype(int)\n",
    "table_2['EMPLOYER_NAME'] = table_2['EMPLOYER_NAME'].str.upper()\n",
    "table_2['SOC_NAME'] = table_2['SOC_NAME'].str.upper()\n",
    "table_2['JOB_TITLE'] = table_2['JOB_TITLE'].str.upper()\n",
    "table_2['FULL_TIME_POSITION'] = table_2['FULL_TIME_POSITION'].str.upper()#datatype conversion for the year column"
   ]
  },
  {
   "cell_type": "code",
   "execution_count": 9,
   "metadata": {
    "_uuid": "63316823ae406948eff52cdd58400a77f983997c"
   },
   "outputs": [
    {
     "data": {
      "text/html": [
       "<div>\n",
       "<style scoped>\n",
       "    .dataframe tbody tr th:only-of-type {\n",
       "        vertical-align: middle;\n",
       "    }\n",
       "\n",
       "    .dataframe tbody tr th {\n",
       "        vertical-align: top;\n",
       "    }\n",
       "\n",
       "    .dataframe thead th {\n",
       "        text-align: right;\n",
       "    }\n",
       "</style>\n",
       "<table border=\"1\" class=\"dataframe\">\n",
       "  <thead>\n",
       "    <tr style=\"text-align: right;\">\n",
       "      <th></th>\n",
       "      <th>CASE_STATUS</th>\n",
       "      <th>EMPLOYER_NAME</th>\n",
       "      <th>SOC_NAME</th>\n",
       "      <th>JOB_TITLE</th>\n",
       "      <th>FULL_TIME_POSITION</th>\n",
       "      <th>PREVAILING_WAGE</th>\n",
       "      <th>FILING_YEAR</th>\n",
       "      <th>WORKSITE</th>\n",
       "      <th>LONGITUDE</th>\n",
       "      <th>LATITUDE</th>\n",
       "    </tr>\n",
       "  </thead>\n",
       "  <tbody>\n",
       "    <tr>\n",
       "      <td>19</td>\n",
       "      <td>CERTIFIED</td>\n",
       "      <td>QUICKLOGIX LLC</td>\n",
       "      <td>CHIEF EXECUTIVES</td>\n",
       "      <td>CEO</td>\n",
       "      <td>Y</td>\n",
       "      <td>187200.0</td>\n",
       "      <td>2016</td>\n",
       "      <td>SANTA CLARA, CALIFORNIA</td>\n",
       "      <td>-121.955236</td>\n",
       "      <td>37.354108</td>\n",
       "    </tr>\n",
       "    <tr>\n",
       "      <td>20</td>\n",
       "      <td>CERTIFIED</td>\n",
       "      <td>MCCHRYSTAL GROUP, LLC</td>\n",
       "      <td>CHIEF EXECUTIVES</td>\n",
       "      <td>PRESIDENT, NORTHEAST REGION</td>\n",
       "      <td>Y</td>\n",
       "      <td>241842.0</td>\n",
       "      <td>2016</td>\n",
       "      <td>ALEXANDRIA, VIRGINIA</td>\n",
       "      <td>-77.046921</td>\n",
       "      <td>38.804835</td>\n",
       "    </tr>\n",
       "    <tr>\n",
       "      <td>23</td>\n",
       "      <td>CERTIFIED</td>\n",
       "      <td>LOMICS, LLC</td>\n",
       "      <td>CHIEF EXECUTIVES</td>\n",
       "      <td>CEO</td>\n",
       "      <td>Y</td>\n",
       "      <td>99986.0</td>\n",
       "      <td>2016</td>\n",
       "      <td>SAN DIEGO, CALIFORNIA</td>\n",
       "      <td>-117.161084</td>\n",
       "      <td>32.715738</td>\n",
       "    </tr>\n",
       "    <tr>\n",
       "      <td>24</td>\n",
       "      <td>CERTIFIED</td>\n",
       "      <td>UC UNIVERSITY HIGH SCHOOL EDUCATION INC.</td>\n",
       "      <td>CHIEF EXECUTIVES</td>\n",
       "      <td>CHIEF FINANCIAL OFFICER</td>\n",
       "      <td>Y</td>\n",
       "      <td>99986.0</td>\n",
       "      <td>2016</td>\n",
       "      <td>CHULA VISTA, CALIFORNIA</td>\n",
       "      <td>-117.084196</td>\n",
       "      <td>32.640054</td>\n",
       "    </tr>\n",
       "    <tr>\n",
       "      <td>26</td>\n",
       "      <td>CERTIFIED</td>\n",
       "      <td>QUICKLOGIX, INC.</td>\n",
       "      <td>CHIEF EXECUTIVES</td>\n",
       "      <td>CEO</td>\n",
       "      <td>Y</td>\n",
       "      <td>187200.0</td>\n",
       "      <td>2016</td>\n",
       "      <td>SANTA CLARA, CALIFORNIA</td>\n",
       "      <td>-121.955236</td>\n",
       "      <td>37.354108</td>\n",
       "    </tr>\n",
       "  </tbody>\n",
       "</table>\n",
       "</div>"
      ],
      "text/plain": [
       "   CASE_STATUS                             EMPLOYER_NAME          SOC_NAME  \\\n",
       "19  CERTIFIED   QUICKLOGIX LLC                            CHIEF EXECUTIVES   \n",
       "20  CERTIFIED   MCCHRYSTAL GROUP, LLC                     CHIEF EXECUTIVES   \n",
       "23  CERTIFIED   LOMICS, LLC                               CHIEF EXECUTIVES   \n",
       "24  CERTIFIED   UC UNIVERSITY HIGH SCHOOL EDUCATION INC.  CHIEF EXECUTIVES   \n",
       "26  CERTIFIED   QUICKLOGIX, INC.                          CHIEF EXECUTIVES   \n",
       "\n",
       "                      JOB_TITLE FULL_TIME_POSITION  PREVAILING_WAGE  \\\n",
       "19  CEO                          Y                  187200.0          \n",
       "20  PRESIDENT, NORTHEAST REGION  Y                  241842.0          \n",
       "23  CEO                          Y                  99986.0           \n",
       "24  CHIEF FINANCIAL OFFICER      Y                  99986.0           \n",
       "26  CEO                          Y                  187200.0          \n",
       "\n",
       "    FILING_YEAR                 WORKSITE   LONGITUDE   LATITUDE  \n",
       "19  2016         SANTA CLARA, CALIFORNIA -121.955236  37.354108  \n",
       "20  2016         ALEXANDRIA, VIRGINIA    -77.046921   38.804835  \n",
       "23  2016         SAN DIEGO, CALIFORNIA   -117.161084  32.715738  \n",
       "24  2016         CHULA VISTA, CALIFORNIA -117.084196  32.640054  \n",
       "26  2016         SANTA CLARA, CALIFORNIA -121.955236  37.354108  "
      ]
     },
     "execution_count": 9,
     "metadata": {},
     "output_type": "execute_result"
    }
   ],
   "source": [
    "table_2.head()"
   ]
  },
  {
   "cell_type": "markdown",
   "metadata": {
    "_uuid": "5b5461061850e7cf28ad8c39f56da50ff4563ddc"
   },
   "source": [
    "### Row Counts v/s Case Status of the visa petition - Data Analysis1"
   ]
  },
  {
   "cell_type": "code",
   "execution_count": 10,
   "metadata": {
    "_uuid": "4afacfe557e3036380b4b53ad155434c91df9635",
    "scrolled": false
   },
   "outputs": [
    {
     "data": {
      "text/plain": [
       "<matplotlib.axes._subplots.AxesSubplot at 0x23116de34c8>"
      ]
     },
     "execution_count": 10,
     "metadata": {},
     "output_type": "execute_result"
    },
    {
     "data": {
      "image/png": "[encoded data removed]",
      "text/plain": [
       "<Figure size 432x288 with 1 Axes>"
      ]
     },
     "metadata": {
      "needs_background": "light"
     },
     "output_type": "display_data"
    }
   ],
   "source": [
    "plot_status_number = table_2['CASE_STATUS'].value_counts().plot(title = 'CASE STATUS vs NUMBER OF PETITIONS', \\\n",
    "                                                                kind = 'bar', color = 'green')\n",
    "plot_status_number.set_xlabel(\"CASE STATUS\")\n",
    "plot_status_number.set_ylabel(\"NUMBER OF PETITIONS\")\n",
    "for p in plot_status_number.patches:\n",
    "    plot_status_number.annotate(str(p.get_height()), (p.get_x() * 1.0050, p.get_height() * 1.005))\n",
    "plot_status_number\n"
   ]
  },
  {
   "cell_type": "markdown",
   "metadata": {
    "_uuid": "e4bf029bdcffab979e4c39236b2b54531ad3f5a2"
   },
   "source": [
    "### The top 15 employers filing the H1-B visa petitions - Data Analysis2"
   ]
  },
  {
   "cell_type": "code",
   "execution_count": 11,
   "metadata": {
    "_uuid": "cabfb5335741660584eb80b8ad8cc5d14e1b16fd"
   },
   "outputs": [
    {
     "name": "stdout",
     "output_type": "stream",
     "text": [
      "INFOSYS LIMITED                                    130241\n",
      "TATA CONSULTANCY SERVICES LIMITED                  64358 \n",
      "WIPRO LIMITED                                      43679 \n",
      "DELOITTE CONSULTING LLP                            36667 \n",
      "ACCENTURE LLP                                      32983 \n",
      "IBM INDIA PRIVATE LIMITED                          28166 \n",
      "MICROSOFT CORPORATION                              22373 \n",
      "HCL AMERICA, INC.                                  22330 \n",
      "ERNST & YOUNG U.S. LLP                             18217 \n",
      "LARSEN & TOUBRO INFOTECH LIMITED                   16724 \n",
      "CAPGEMINI AMERICA INC                              16032 \n",
      "COGNIZANT TECHNOLOGY SOLUTIONS U.S. CORPORATION    15448 \n",
      "GOOGLE INC.                                        12545 \n",
      "IGATE TECHNOLOGIES INC.                            12196 \n",
      "IBM CORPORATION                                    10690 \n",
      "Name: EMPLOYER_NAME, dtype: int64\n"
     ]
    },
    {
     "data": {
      "image/png": "[encoded data removed]",
      "text/plain": [
       "<Figure size 504x360 with 1 Axes>"
      ]
     },
     "metadata": {
      "needs_background": "light"
     },
     "output_type": "display_data"
    }
   ],
   "source": [
    "plot_status_topemp= table_2['EMPLOYER_NAME'].value_counts().head(15).plot.barh(title = \"Top 15 employers filing the petitions\", \\\n",
    "                                                                 color = 'green', figsize = (7, 5))\n",
    "plot_status_topemp.set_ylabel(\"NAME OF THE EMPLOYER\")\n",
    "plot_status_topemp.set_xlabel(\"NUMBER OF PETITIONS\")\n",
    "plot_status_topemp\n",
    "print(table_2['EMPLOYER_NAME'].value_counts().head(15))"
   ]
  },
  {
   "cell_type": "markdown",
   "metadata": {
    "_uuid": "cb914ad14822d98155e484bb013ae39fc16dde14"
   },
   "source": [
    "### The top 15 SOC names for which H1-B visas are raised - Data Analysis3"
   ]
  },
  {
   "cell_type": "code",
   "execution_count": 12,
   "metadata": {
    "_uuid": "b7376ceb2f7b234fd363c1c3279120819d8093ca"
   },
   "outputs": [
    {
     "name": "stdout",
     "output_type": "stream",
     "text": [
      "COMPUTER SYSTEMS ANALYSTS                             469300\n",
      "SOFTWARE DEVELOPERS, APPLICATIONS                     372125\n",
      "COMPUTER PROGRAMMERS                                  360575\n",
      "COMPUTER OCCUPATIONS, ALL OTHER                       164659\n",
      "SOFTWARE DEVELOPERS, SYSTEMS SOFTWARE                 75806 \n",
      "MANAGEMENT ANALYSTS                                   62096 \n",
      "ACCOUNTANTS AND AUDITORS                              49780 \n",
      "FINANCIAL ANALYSTS                                    46730 \n",
      "MECHANICAL ENGINEERS                                  39844 \n",
      "NETWORK AND COMPUTER SYSTEMS ADMINISTRATORS           36219 \n",
      "DATABASE ADMINISTRATORS                               35303 \n",
      "MARKET RESEARCH ANALYSTS AND MARKETING SPECIALISTS    34433 \n",
      "ELECTRONICS ENGINEERS, EXCEPT COMPUTER                31782 \n",
      "PHYSICIANS AND SURGEONS, ALL OTHER                    30641 \n",
      "OPERATIONS RESEARCH ANALYSTS                          30328 \n",
      "Name: SOC_NAME, dtype: int64\n"
     ]
    },
    {
     "data": {
      "image/png": "[encoded data removed]",
      "text/plain": [
       "<Figure size 504x360 with 1 Axes>"
      ]
     },
     "metadata": {
      "needs_background": "light"
     },
     "output_type": "display_data"
    }
   ],
   "source": [
    "plot_status_topsoc= table_2['SOC_NAME'].value_counts().head(15).plot.barh(title = \"Top 15 in demand positions SOCs\", \\\n",
    "                                                                 color = 'green', figsize = (7, 5))\n",
    "plot_status_topsoc.set_ylabel(\"SOC NAME\")\n",
    "plot_status_topsoc.set_xlabel(\"NUMBER OF PETITIONS\")\n",
    "plot_status_topsoc\n",
    "print(table_2['SOC_NAME'].value_counts().head(15))"
   ]
  },
  {
   "cell_type": "markdown",
   "metadata": {
    "_uuid": "8fc1a10235fc7fa2dcfde65db627ea07a0b806a4"
   },
   "source": [
    "### Acceptance rate of the H1-B Visa petitions through different years - Data Analysis4"
   ]
  },
  {
   "cell_type": "code",
   "execution_count": 13,
   "metadata": {
    "_uuid": "3eb61a9705d64d2d567504211604daa2ed2346be"
   },
   "outputs": [
    {
     "data": {
      "image/png": "[encoded data removed]",
      "text/plain": [
       "<Figure size 432x288 with 1 Axes>"
      ]
     },
     "metadata": {
      "needs_background": "light"
     },
     "output_type": "display_data"
    },
    {
     "data": {
      "image/png": "[encoded data removed]",
      "text/plain": [
       "<Figure size 432x288 with 1 Axes>"
      ]
     },
     "metadata": {
      "needs_background": "light"
     },
     "output_type": "display_data"
    }
   ],
   "source": [
    "dfplot_status_fyear = pd.DataFrame(table_2['FILING_YEAR'].value_counts())\n",
    "dfplot_status_fyear = dfplot_status_fyear.sort_values(['FILING_YEAR'])\n",
    "plot_status_fyear = dfplot_status_fyear.plot(title = 'H1-B Petitions per year', kind = 'line')\n",
    "plot_status_fyear.set_xlabel('FILING YEAR')\n",
    "plot_status_fyear.set_ylabel('NUMBER OF PETITIONS')\n",
    "plt.show()\n",
    "\n",
    "dfstatus_acceptance_peryear = pd.DataFrame(table_2[table_2['CASE_STATUS'] == 'CERTIFIED'].FILING_YEAR.value_counts() / table_2.FILING_YEAR.value_counts())\n",
    "dfstatus_acceptance_peryear = dfstatus_acceptance_peryear.sort_values(['FILING_YEAR'])\n",
    "status_acceptance_peryear = dfstatus_acceptance_peryear.plot(title = 'H1-B Petitions acceptance per year', kind = 'line')\n",
    "status_acceptance_peryear.set_xlabel('FILING YEAR')\n",
    "status_acceptance_peryear.set_ylabel('ACCEPTANCE RATIO')\n",
    "plt.show()"
   ]
  },
  {
   "cell_type": "markdown",
   "metadata": {
    "_uuid": "431b7896674b6335a64969b10464fe83bc4f368b"
   },
   "source": [
    "### Salaries trend per year - Data Analysis5"
   ]
  },
  {
   "cell_type": "code",
   "execution_count": 14,
   "metadata": {
    "_uuid": "0af61fc7a9028e4f99d122f6ee307796d17ab889"
   },
   "outputs": [
    {
     "data": {
      "image/png": "[encoded data removed]",
      "text/plain": [
       "<Figure size 432x288 with 1 Axes>"
      ]
     },
     "metadata": {
      "needs_background": "light"
     },
     "output_type": "display_data"
    },
    {
     "data": {
      "text/html": [
       "<div>\n",
       "<style scoped>\n",
       "    .dataframe tbody tr th:only-of-type {\n",
       "        vertical-align: middle;\n",
       "    }\n",
       "\n",
       "    .dataframe tbody tr th {\n",
       "        vertical-align: top;\n",
       "    }\n",
       "\n",
       "    .dataframe thead tr th {\n",
       "        text-align: left;\n",
       "    }\n",
       "\n",
       "    .dataframe thead tr:last-of-type th {\n",
       "        text-align: right;\n",
       "    }\n",
       "</style>\n",
       "<table border=\"1\" class=\"dataframe\">\n",
       "  <thead>\n",
       "    <tr>\n",
       "      <th></th>\n",
       "      <th>PREVAILING_WAGE</th>\n",
       "    </tr>\n",
       "    <tr>\n",
       "      <th></th>\n",
       "      <th>median</th>\n",
       "    </tr>\n",
       "    <tr>\n",
       "      <th>FILING_YEAR</th>\n",
       "      <th></th>\n",
       "    </tr>\n",
       "  </thead>\n",
       "  <tbody>\n",
       "    <tr>\n",
       "      <td>2011</td>\n",
       "      <td>60882.0</td>\n",
       "    </tr>\n",
       "    <tr>\n",
       "      <td>2012</td>\n",
       "      <td>62462.0</td>\n",
       "    </tr>\n",
       "    <tr>\n",
       "      <td>2013</td>\n",
       "      <td>63939.0</td>\n",
       "    </tr>\n",
       "    <tr>\n",
       "      <td>2014</td>\n",
       "      <td>64958.0</td>\n",
       "    </tr>\n",
       "    <tr>\n",
       "      <td>2015</td>\n",
       "      <td>66394.0</td>\n",
       "    </tr>\n",
       "    <tr>\n",
       "      <td>2016</td>\n",
       "      <td>68411.0</td>\n",
       "    </tr>\n",
       "  </tbody>\n",
       "</table>\n",
       "</div>"
      ],
      "text/plain": [
       "            PREVAILING_WAGE\n",
       "                     median\n",
       "FILING_YEAR                \n",
       "2011         60882.0       \n",
       "2012         62462.0       \n",
       "2013         63939.0       \n",
       "2014         64958.0       \n",
       "2015         66394.0       \n",
       "2016         68411.0       "
      ]
     },
     "execution_count": 14,
     "metadata": {},
     "output_type": "execute_result"
    }
   ],
   "source": [
    "dfsalaries_trends_year = table_2.loc[:,['PREVAILING_WAGE', 'FILING_YEAR']].groupby(['FILING_YEAR']).agg(['median'])\n",
    "\n",
    "plot_salaries_trends_year = dfsalaries_trends_year.plot(kind = 'bar', color = 'g', legend = None)\n",
    "plot_salaries_trends_year.set_xlabel('FILING YEAR')\n",
    "plot_salaries_trends_year.set_ylabel('MEDIAN WAGE')\n",
    "plt.show()\n",
    "dfsalaries_trends_year"
   ]
  },
  {
   "cell_type": "markdown",
   "metadata": {
    "_uuid": "a2548d649b8dab0a982215749544c0c9b98e546b"
   },
   "source": [
    "### Step 3: Filter the rows and keep the ones with case status as 'CERTIFIED' or 'DECLINED'"
   ]
  },
  {
   "cell_type": "code",
   "execution_count": 15,
   "metadata": {
    "_uuid": "b4fcc5afce0765a51b1cfcf79647904adf64c04d"
   },
   "outputs": [
    {
     "name": "stdout",
     "output_type": "stream",
     "text": [
      "['CERTIFIED' 'DENIED' 'REJECTED']\n"
     ]
    }
   ],
   "source": [
    "print(table_2['CASE_STATUS'].unique())\n",
    "table_2 = table_2.loc[table_2['CASE_STATUS'].isin([\"CERTIFIED\", \"DENIED\"])] #filtering"
   ]
  },
  {
   "cell_type": "markdown",
   "metadata": {
    "_uuid": "6bdc7b311c34c2009396c14e18ddb95390e005e0"
   },
   "source": [
    "### Step 4: Remove rows with null values for EMPLOYER_NAME, SOC_NAME, JOB_TITLE, FULL_TIME_POSITION, PREVAILING_WAGE"
   ]
  },
  {
   "cell_type": "code",
   "execution_count": 16,
   "metadata": {
    "_uuid": "34379dc661d4f84742c82e295f9dc3b848e3c605"
   },
   "outputs": [
    {
     "data": {
      "text/plain": [
       "CASE_STATUS           0    \n",
       "EMPLOYER_NAME         18   \n",
       "SOC_NAME              15893\n",
       "JOB_TITLE             10   \n",
       "FULL_TIME_POSITION    1    \n",
       "PREVAILING_WAGE       53   \n",
       "FILING_YEAR           0    \n",
       "WORKSITE              0    \n",
       "LONGITUDE             97071\n",
       "LATITUDE              97071\n",
       "dtype: int64"
      ]
     },
     "execution_count": 16,
     "metadata": {},
     "output_type": "execute_result"
    }
   ],
   "source": [
    "table_2.isnull().sum(axis = 0)"
   ]
  },
  {
   "cell_type": "code",
   "execution_count": 17,
   "metadata": {
    "_uuid": "df580f4262fb9b8de91e6ef670613c69ae1b621a"
   },
   "outputs": [],
   "source": [
    "table_3 = table_2.dropna(axis=0, how='any', subset = ['EMPLOYER_NAME', 'SOC_NAME', 'JOB_TITLE', \n",
    "                                                      'FULL_TIME_POSITION', 'PREVAILING_WAGE'])\n"
   ]
  },
  {
   "cell_type": "markdown",
   "metadata": {
    "_uuid": "c2f2558d12b1c1672cbe15ee870014e6e0ea67d1"
   },
   "source": [
    "### Step 5: Find the number of certified and denied of all the needed columns with their count"
   ]
  },
  {
   "cell_type": "code",
   "execution_count": 18,
   "metadata": {
    "_uuid": "3dc5b70d8713260a96678eaaa318a129e6ddf1b2"
   },
   "outputs": [
    {
     "name": "stdout",
     "output_type": "stream",
     "text": [
      "(2709969, 10)\n",
      "(2694002, 10)\n"
     ]
    }
   ],
   "source": [
    "print(table_2.shape)\n",
    "print(table_3.shape)"
   ]
  },
  {
   "cell_type": "code",
   "execution_count": 19,
   "metadata": {
    "_uuid": "a50a30ccdbf542a21962c8f3ea891f8ccad47e02"
   },
   "outputs": [
    {
     "data": {
      "text/plain": [
       "CERTIFIED    2600241\n",
       "DENIED       93761  \n",
       "Name: CASE_STATUS, dtype: int64"
      ]
     },
     "execution_count": 19,
     "metadata": {},
     "output_type": "execute_result"
    }
   ],
   "source": [
    "table_3.CASE_STATUS.value_counts()"
   ]
  },
  {
   "cell_type": "markdown",
   "metadata": {
    "_uuid": "87da095b0f7e3e038bf0b28d90a2008d3516f82e"
   },
   "source": [
    "### Step 6: Downsampling the Data to match the ratio of certified and denied samples"
   ]
  },
  {
   "cell_type": "code",
   "execution_count": 20,
   "metadata": {
    "_uuid": "5bdc0436ec1858f4296a2c210dc011355979041b"
   },
   "outputs": [],
   "source": [
    "table_temp_2_Dx = table_3[table_3['CASE_STATUS'] == 'DENIED']\n",
    "#table_temp_2_Dx.duplicated(features_for_dup_removal).value_counts()"
   ]
  },
  {
   "cell_type": "code",
   "execution_count": 21,
   "metadata": {
    "_uuid": "c507402c0f9077857931a9708f3094cbe805d18b"
   },
   "outputs": [],
   "source": [
    "table_temp_2_Cx = table_3[table_3['CASE_STATUS'] == 'CERTIFIED']\n",
    "#table_temp_2_Cx.duplicated(features_for_dup_removal).value_counts()"
   ]
  },
  {
   "cell_type": "code",
   "execution_count": 22,
   "metadata": {
    "_uuid": "ed60d146d195a78c92e46ddbab254835ae0ef760"
   },
   "outputs": [],
   "source": [
    "Input_Certified, Input_Certified_extra, y_certified, y_certified_extra = train_test_split(table_3[table_3.CASE_STATUS == 'CERTIFIED'],\\\n",
    "                                                                                          table_temp_2_Cx.CASE_STATUS, train_size= 0.06, random_state=1)\n",
    "\n",
    "#Input_Certified is the needed x axis data\n",
    "#Input_certified_extra is the eliminitated attributes data\n",
    "#Same applied for the Y axis but as the values are \"Certified\" throughout, it doesn't matter"
   ]
  },
  {
   "cell_type": "code",
   "execution_count": 23,
   "metadata": {
    "_uuid": "4601044a42514e9a1e257a1669f21d2c2c68f2c8"
   },
   "outputs": [],
   "source": [
    "training_dataframe = Input_Certified.append(table_temp_2_Dx)"
   ]
  },
  {
   "cell_type": "code",
   "execution_count": 24,
   "metadata": {
    "_uuid": "8d0f143da47c3973a21aa1dd8c62d3a979c69462"
   },
   "outputs": [
    {
     "data": {
      "image/png": "[encoded data removed]",
      "text/plain": [
       "<Figure size 432x288 with 1 Axes>"
      ]
     },
     "metadata": {
      "needs_background": "light"
     },
     "output_type": "display_data"
    }
   ],
   "source": [
    "## plot the distribution of the certified and denied samples after downsampling\n",
    "plot_after_ds = training_dataframe['CASE_STATUS'].value_counts().plot(title = 'CASE STATUS vs NUMBER OF PETITIONS', \\\n",
    "                                                                kind = 'bar', color = 'green')\n",
    "plot_after_ds.set_xlabel(\"CASE STATUS\")\n",
    "plot_after_ds.set_ylabel(\"NUMBER OF PETITIONS\")\n",
    "for p in plot_after_ds.patches:\n",
    "    plot_after_ds.annotate(str(p.get_height()), (p.get_x() * 1.0050, p.get_height() * 1.005))\n",
    "plt.show()"
   ]
  },
  {
   "cell_type": "markdown",
   "metadata": {
    "_uuid": "dc66dee349d0b946379f1f7b89ddb7bcfd7a4d3f"
   },
   "source": [
    "# Features Creation and Categorisation"
   ]
  },
  {
   "cell_type": "markdown",
   "metadata": {
    "_uuid": "61d4a82200668c19932cbd61d64f1db4ac15b2f0"
   },
   "source": [
    "For the given categorical data, they need to convert it to numerical values\n",
    "\n",
    "There are three ways to convert the categorical data to numerical ones.\n",
    "\n",
    "1. Encoding to ordinal values\n",
    "2. Feature Hashing\n",
    "3. One-Hot Encoding\n",
    "\n",
    "Prior selecting any of the above methods, it is necessary to get the details of the unique values for each of the columns/Features. Below is the plot for the same."
   ]
  },
  {
   "cell_type": "code",
   "execution_count": 25,
   "metadata": {
    "_uuid": "47592d60b2bf3243094e0a68ac024d20f80b4793"
   },
   "outputs": [
    {
     "name": "stdout",
     "output_type": "stream",
     "text": [
      "Case Status  2\n",
      "Unique Employers  80566\n",
      "Prevailing Wages  24804\n",
      "Unique SOCs  983\n",
      "Unique Job Titles  53272\n",
      "Unique Filing Year  6\n",
      "Unique Worksite State  8637\n",
      "Unique Employment Type  2\n"
     ]
    }
   ],
   "source": [
    "# one-hot encoding for every possible and needed column\n",
    "print(\"Case Status \",training_dataframe.CASE_STATUS.nunique())\n",
    "print(\"Unique Employers \",training_dataframe.EMPLOYER_NAME.nunique())\n",
    "print(\"Prevailing Wages \",training_dataframe.PREVAILING_WAGE.nunique())\n",
    "print(\"Unique SOCs \", training_dataframe.SOC_NAME.nunique())\n",
    "print(\"Unique Job Titles \",training_dataframe.JOB_TITLE.nunique())\n",
    "print(\"Unique Filing Year \",training_dataframe.FILING_YEAR.nunique())\n",
    "print(\"Unique Worksite State \",training_dataframe.WORKSITE.nunique())\n",
    "print(\"Unique Employment Type \", training_dataframe.FULL_TIME_POSITION.nunique())"
   ]
  },
  {
   "cell_type": "markdown",
   "metadata": {
    "_uuid": "9a94cb482fa7b14a1056b21459b6fbcfb325d3a5"
   },
   "source": [
    "### Step 8: Feature Categorisation Functions"
   ]
  },
  {
   "cell_type": "code",
   "execution_count": 26,
   "metadata": {
    "_uuid": "7de2e4ffe0cb05eb2eb353c3d27efaad83b62b95"
   },
   "outputs": [],
   "source": [
    "def wage_categorization(wage):\n",
    "    if wage <=50000:\n",
    "        return \"VERY LOW\"\n",
    "    elif wage >50000 and wage <= 70000:\n",
    "        return \"LOW\"\n",
    "    elif wage >70000 and wage <= 90000:\n",
    "        return \"MEDIUM\"\n",
    "    elif wage >90000 and wage<=150000:\n",
    "        return \"HIGH\"\n",
    "    elif wage >=150000:\n",
    "        return \"VERY HIGH\""
   ]
  },
  {
   "cell_type": "code",
   "execution_count": 27,
   "metadata": {
    "_uuid": "5e1c0427038180af20ff2017ec2dd9ef276c8d35"
   },
   "outputs": [],
   "source": [
    "def categorisation_visagrant(ratio_of_acceptance):\n",
    "    if ratio_of_acceptance == -1:\n",
    "        return \"AR\"\n",
    "    elif ratio_of_acceptance >=0.0 and ratio_of_acceptance<0.20:\n",
    "        return \"VLA\"\n",
    "    elif ratio_of_acceptance>=0.20 and ratio_of_acceptance<0.40:\n",
    "        return \"LA\"\n",
    "    elif ratio_of_acceptance>=0.40 and ratio_of_acceptance<0.60:\n",
    "        return \"MA\"\n",
    "    elif ratio_of_acceptance>=0.60 and ratio_of_acceptance<0.80:\n",
    "        return \"HA\"\n",
    "    elif ratio_of_acceptance>=0.80:\n",
    "        return \"VHA\""
   ]
  },
  {
   "cell_type": "code",
   "execution_count": 28,
   "metadata": {
    "_uuid": "f9cf68ad1576e51974c6aef07bdef55a6afecf43"
   },
   "outputs": [],
   "source": [
    "def state_extractor(work_site):\n",
    "    return work_site.split(', ')[1]"
   ]
  },
  {
   "cell_type": "markdown",
   "metadata": {
    "_uuid": "21b545cf2d029599caa95c8770738ebe1f54a298"
   },
   "source": [
    "### Step 9: Feature Creation for One-Hot Encoding"
   ]
  },
  {
   "cell_type": "code",
   "execution_count": 29,
   "metadata": {
    "_uuid": "082f2720988bf5ad0d59d7fb53061ac3542c1cd4"
   },
   "outputs": [],
   "source": [
    "training_dataframe['WORKSITE'] = training_dataframe['WORKSITE'].apply(state_extractor)"
   ]
  },
  {
   "cell_type": "code",
   "execution_count": 30,
   "metadata": {
    "_uuid": "53b2d6a6660efb4deca235d3d4139d1ea1e9e2f6"
   },
   "outputs": [
    {
     "data": {
      "text/plain": [
       "array(['PENNSYLVANIA', 'TEXAS', 'NEW YORK', 'CALIFORNIA', 'CONNECTICUT',\n",
       "       'WASHINGTON', 'MISSOURI', 'OREGON', 'VIRGINIA', 'MASSACHUSETTS',\n",
       "       'OHIO', 'ILLINOIS', 'FLORIDA', 'TENNESSEE', 'IDAHO', 'MARYLAND',\n",
       "       'GEORGIA', 'NORTH CAROLINA', 'NEBRASKA', 'MINNESOTA', 'DELAWARE',\n",
       "       'NEW HAMPSHIRE', 'ALABAMA', 'NEW JERSEY', 'WISCONSIN', 'ARIZONA',\n",
       "       'INDIANA', 'MICHIGAN', 'IOWA', 'COLORADO', 'NEW MEXICO',\n",
       "       'SOUTH CAROLINA', 'LOUISIANA', 'UTAH', 'KENTUCKY', 'ALASKA',\n",
       "       'DISTRICT OF COLUMBIA', 'OKLAHOMA', 'ARKANSAS', 'RHODE ISLAND',\n",
       "       'VERMONT', 'MAINE', 'MISSISSIPPI', 'NA', 'KANSAS', 'NEVADA',\n",
       "       'HAWAII', 'WYOMING', 'PUERTO RICO', 'WEST VIRGINIA', 'MONTANA',\n",
       "       'NORTH DAKOTA', 'SOUTH DAKOTA'], dtype=object)"
      ]
     },
     "execution_count": 30,
     "metadata": {},
     "output_type": "execute_result"
    }
   ],
   "source": [
    "training_dataframe.WORKSITE.unique()"
   ]
  },
  {
   "cell_type": "code",
   "execution_count": 31,
   "metadata": {
    "_uuid": "0319815331652cb65c8a4dd0fe5235c7468c08a5"
   },
   "outputs": [],
   "source": [
    "training_dataframe['WAGE_CATEGORY'] = training_dataframe['PREVAILING_WAGE'].apply(wage_categorization)"
   ]
  },
  {
   "cell_type": "code",
   "execution_count": 32,
   "metadata": {
    "_uuid": "43cf890aa24d4f99af339137095a5c0719044de2"
   },
   "outputs": [],
   "source": [
    "training_dataframe_1 = training_dataframe.loc[:,['EMPLOYER_NAME', 'CASE_STATUS']]\n",
    "training_dataframe_1s = training_dataframe.loc[:,['SOC_NAME', 'CASE_STATUS']]\n",
    "training_dataframe_1j = training_dataframe.loc[:,['JOB_TITLE', 'CASE_STATUS']]"
   ]
  },
  {
   "cell_type": "code",
   "execution_count": 33,
   "metadata": {
    "_uuid": "bd7eb300e1d9935ece5f79d067581013595d7f9d"
   },
   "outputs": [],
   "source": [
    "training_dataframe_2_C = training_dataframe_1[training_dataframe_1.CASE_STATUS == 'CERTIFIED'].EMPLOYER_NAME\n",
    "training_dataframe_2_Cs = training_dataframe_1s[training_dataframe_1s.CASE_STATUS == 'CERTIFIED'].SOC_NAME\n",
    "training_dataframe_2_Cj = training_dataframe_1j[training_dataframe_1j.CASE_STATUS == 'CERTIFIED'].JOB_TITLE\n",
    "positive_counts = training_dataframe_2_C.value_counts()\n",
    "positive_counts_s = training_dataframe_2_Cs.value_counts()\n",
    "positive_counts_j = training_dataframe_2_Cj.value_counts()"
   ]
  },
  {
   "cell_type": "code",
   "execution_count": 34,
   "metadata": {
    "_uuid": "da07435090a86389b7903d0778437142e98cbbf7"
   },
   "outputs": [],
   "source": [
    "total_counts = training_dataframe_1.EMPLOYER_NAME.value_counts()\n",
    "total_counts_s = training_dataframe_1s.SOC_NAME.value_counts()\n",
    "total_counts_j = training_dataframe_1j.JOB_TITLE.value_counts()"
   ]
  },
  {
   "cell_type": "code",
   "execution_count": 35,
   "metadata": {
    "_uuid": "6755bba72c05ea726ea005a4479e8322c156ad29"
   },
   "outputs": [],
   "source": [
    "final_ratio_series = positive_counts / total_counts\n",
    "\n",
    "final_ratio_series.fillna(-1, inplace=True)\n",
    "final_classification_employer = final_ratio_series.apply(categorisation_visagrant)\n",
    "training_dataframe['EMPLOYER_ACCEPTANCE'] = training_dataframe.EMPLOYER_NAME.map(final_classification_employer)"
   ]
  },
  {
   "cell_type": "code",
   "execution_count": 36,
   "metadata": {
    "_uuid": "db4a7efb9bc2c03addecc606a6fbc77c11c1fcbd"
   },
   "outputs": [],
   "source": [
    "final_ratio_series_s = positive_counts_s / total_counts_s\n",
    "final_ratio_series_s.fillna(-1, inplace=True)\n",
    "final_classification_soc = final_ratio_series_s.apply(categorisation_visagrant)\n",
    "training_dataframe['SOC_ACCEPTANCE'] = training_dataframe.SOC_NAME.map(final_classification_soc)"
   ]
  },
  {
   "cell_type": "code",
   "execution_count": 37,
   "metadata": {
    "_uuid": "f853095e12c5096600c475ff854ef97963be2164"
   },
   "outputs": [],
   "source": [
    "final_ratio_series_j = positive_counts_j / total_counts_j\n",
    "final_ratio_series_j.fillna(-1, inplace=True)\n",
    "final_classification_job = final_ratio_series_j.apply(categorisation_visagrant)\n",
    "training_dataframe['JOB_ACCEPTANCE'] = training_dataframe.JOB_TITLE.map(final_classification_job)"
   ]
  },
  {
   "cell_type": "code",
   "execution_count": 38,
   "metadata": {
    "_uuid": "9103790084b914ff8517ce086b75da7e1069bd05"
   },
   "outputs": [
    {
     "name": "stdout",
     "output_type": "stream",
     "text": [
      "Case Status  2\n",
      "Unique Employers  6\n",
      "Wages Category 5\n",
      "Unique SOCs  6\n",
      "Unique Job Titles  6\n",
      "Unique Filing Year  6\n",
      "Unique Worksite State  53\n",
      "Unique Employment Type  2\n"
     ]
    }
   ],
   "source": [
    "print(\"Case Status \",training_dataframe.CASE_STATUS.nunique())\n",
    "print(\"Unique Employers \",training_dataframe.EMPLOYER_ACCEPTANCE.nunique())\n",
    "print(\"Wages Category\", training_dataframe.WAGE_CATEGORY.nunique())\n",
    "print(\"Unique SOCs \", training_dataframe.SOC_ACCEPTANCE.nunique())\n",
    "print(\"Unique Job Titles \",training_dataframe.JOB_ACCEPTANCE.nunique())\n",
    "print(\"Unique Filing Year \",training_dataframe.FILING_YEAR.nunique())\n",
    "print(\"Unique Worksite State \",training_dataframe.WORKSITE.nunique())\n",
    "print(\"Unique Employment Type \", training_dataframe.FULL_TIME_POSITION.nunique())"
   ]
  },
  {
   "cell_type": "code",
   "execution_count": 39,
   "metadata": {
    "_uuid": "876777491b07b01c9ad6b8d9a9c1a952076b17bd"
   },
   "outputs": [],
   "source": [
    "dict_cs = {\"CERTIFIED\" : 1, \"DENIED\": 0}\n",
    "dict_fp = {\"Y\" : 1, \"N\" : 0}\n",
    "try:\n",
    "    \n",
    "    training_dataframe['CASE_STATUS'] = training_dataframe['CASE_STATUS'].apply(lambda x: dict_cs[x])\n",
    "    training_dataframe['FULL_TIME_POSITION'] = training_dataframe['FULL_TIME_POSITION'].apply(lambda x: dict_fp[x])\n",
    "except:\n",
    "    pass\n"
   ]
  },
  {
   "cell_type": "code",
   "execution_count": 40,
   "metadata": {
    "_uuid": "9037f499200049b094ef58d825299f49d9de3d79"
   },
   "outputs": [
    {
     "data": {
      "text/html": [
       "<div>\n",
       "<style scoped>\n",
       "    .dataframe tbody tr th:only-of-type {\n",
       "        vertical-align: middle;\n",
       "    }\n",
       "\n",
       "    .dataframe tbody tr th {\n",
       "        vertical-align: top;\n",
       "    }\n",
       "\n",
       "    .dataframe thead th {\n",
       "        text-align: right;\n",
       "    }\n",
       "</style>\n",
       "<table border=\"1\" class=\"dataframe\">\n",
       "  <thead>\n",
       "    <tr style=\"text-align: right;\">\n",
       "      <th></th>\n",
       "      <th>CASE_STATUS</th>\n",
       "      <th>FILING_YEAR</th>\n",
       "      <th>WORKSITE</th>\n",
       "      <th>WAGE_CATEGORY</th>\n",
       "      <th>EMPLOYER_ACCEPTANCE</th>\n",
       "      <th>JOB_ACCEPTANCE</th>\n",
       "      <th>SOC_ACCEPTANCE</th>\n",
       "      <th>FULL_TIME_POSITION</th>\n",
       "    </tr>\n",
       "  </thead>\n",
       "  <tbody>\n",
       "    <tr>\n",
       "      <td>40</td>\n",
       "      <td>0</td>\n",
       "      <td>2016</td>\n",
       "      <td>WASHINGTON</td>\n",
       "      <td>VERY HIGH</td>\n",
       "      <td>AR</td>\n",
       "      <td>LA</td>\n",
       "      <td>LA</td>\n",
       "      <td>1</td>\n",
       "    </tr>\n",
       "    <tr>\n",
       "      <td>48</td>\n",
       "      <td>0</td>\n",
       "      <td>2016</td>\n",
       "      <td>CALIFORNIA</td>\n",
       "      <td>VERY HIGH</td>\n",
       "      <td>AR</td>\n",
       "      <td>LA</td>\n",
       "      <td>LA</td>\n",
       "      <td>1</td>\n",
       "    </tr>\n",
       "    <tr>\n",
       "      <td>67</td>\n",
       "      <td>1</td>\n",
       "      <td>2016</td>\n",
       "      <td>GEORGIA</td>\n",
       "      <td>VERY HIGH</td>\n",
       "      <td>VHA</td>\n",
       "      <td>LA</td>\n",
       "      <td>LA</td>\n",
       "      <td>1</td>\n",
       "    </tr>\n",
       "    <tr>\n",
       "      <td>71</td>\n",
       "      <td>1</td>\n",
       "      <td>2016</td>\n",
       "      <td>PENNSYLVANIA</td>\n",
       "      <td>VERY HIGH</td>\n",
       "      <td>VHA</td>\n",
       "      <td>LA</td>\n",
       "      <td>LA</td>\n",
       "      <td>1</td>\n",
       "    </tr>\n",
       "    <tr>\n",
       "      <td>92</td>\n",
       "      <td>0</td>\n",
       "      <td>2016</td>\n",
       "      <td>MICHIGAN</td>\n",
       "      <td>HIGH</td>\n",
       "      <td>AR</td>\n",
       "      <td>VLA</td>\n",
       "      <td>LA</td>\n",
       "      <td>1</td>\n",
       "    </tr>\n",
       "  </tbody>\n",
       "</table>\n",
       "</div>"
      ],
      "text/plain": [
       "    CASE_STATUS  FILING_YEAR      WORKSITE WAGE_CATEGORY EMPLOYER_ACCEPTANCE  \\\n",
       "40  0            2016         WASHINGTON    VERY HIGH     AR                   \n",
       "48  0            2016         CALIFORNIA    VERY HIGH     AR                   \n",
       "67  1            2016         GEORGIA       VERY HIGH     VHA                  \n",
       "71  1            2016         PENNSYLVANIA  VERY HIGH     VHA                  \n",
       "92  0            2016         MICHIGAN      HIGH          AR                   \n",
       "\n",
       "   JOB_ACCEPTANCE SOC_ACCEPTANCE  FULL_TIME_POSITION  \n",
       "40  LA             LA             1                   \n",
       "48  LA             LA             1                   \n",
       "67  LA             LA             1                   \n",
       "71  LA             LA             1                   \n",
       "92  VLA            LA             1                   "
      ]
     },
     "execution_count": 40,
     "metadata": {},
     "output_type": "execute_result"
    }
   ],
   "source": [
    "training_dataframe['FILING_YEAR'] = training_dataframe['FILING_YEAR'].astype('int')\n",
    "training_dataframe.sort_index(inplace = True)\n",
    "training_dataframe = training_dataframe.loc[:, ['CASE_STATUS', 'FILING_YEAR',\\\n",
    "                                                'WORKSITE', 'WAGE_CATEGORY',  'EMPLOYER_ACCEPTANCE', 'JOB_ACCEPTANCE', 'SOC_ACCEPTANCE', 'FULL_TIME_POSITION']]\n",
    "training_dataframe.head()"
   ]
  },
  {
   "cell_type": "markdown",
   "metadata": {
    "_uuid": "4625d038fe1764bc705d5e5e32a522d3d7feb171"
   },
   "source": [
    "### Step 10: Apply One-hot encoding"
   ]
  },
  {
   "cell_type": "code",
   "execution_count": 41,
   "metadata": {
    "_uuid": "d0d7a319637c72afd5be0d4d845f3fc642055d0b"
   },
   "outputs": [
    {
     "data": {
      "text/html": [
       "<div>\n",
       "<style scoped>\n",
       "    .dataframe tbody tr th:only-of-type {\n",
       "        vertical-align: middle;\n",
       "    }\n",
       "\n",
       "    .dataframe tbody tr th {\n",
       "        vertical-align: top;\n",
       "    }\n",
       "\n",
       "    .dataframe thead th {\n",
       "        text-align: right;\n",
       "    }\n",
       "</style>\n",
       "<table border=\"1\" class=\"dataframe\">\n",
       "  <thead>\n",
       "    <tr style=\"text-align: right;\">\n",
       "      <th></th>\n",
       "      <th>CASE_STATUS</th>\n",
       "      <th>FILING_YEAR_2012</th>\n",
       "      <th>FILING_YEAR_2013</th>\n",
       "      <th>FILING_YEAR_2014</th>\n",
       "      <th>FILING_YEAR_2015</th>\n",
       "      <th>FILING_YEAR_2016</th>\n",
       "      <th>WORKSITE_ALASKA</th>\n",
       "      <th>WORKSITE_ARIZONA</th>\n",
       "      <th>WORKSITE_ARKANSAS</th>\n",
       "      <th>WORKSITE_CALIFORNIA</th>\n",
       "      <th>...</th>\n",
       "      <th>JOB_ACCEPTANCE_HA</th>\n",
       "      <th>JOB_ACCEPTANCE_LA</th>\n",
       "      <th>JOB_ACCEPTANCE_MA</th>\n",
       "      <th>JOB_ACCEPTANCE_VHA</th>\n",
       "      <th>JOB_ACCEPTANCE_VLA</th>\n",
       "      <th>SOC_ACCEPTANCE_HA</th>\n",
       "      <th>SOC_ACCEPTANCE_LA</th>\n",
       "      <th>SOC_ACCEPTANCE_MA</th>\n",
       "      <th>SOC_ACCEPTANCE_VHA</th>\n",
       "      <th>SOC_ACCEPTANCE_VLA</th>\n",
       "    </tr>\n",
       "  </thead>\n",
       "  <tbody>\n",
       "    <tr>\n",
       "      <td>40</td>\n",
       "      <td>0</td>\n",
       "      <td>0</td>\n",
       "      <td>0</td>\n",
       "      <td>0</td>\n",
       "      <td>0</td>\n",
       "      <td>1</td>\n",
       "      <td>0</td>\n",
       "      <td>0</td>\n",
       "      <td>0</td>\n",
       "      <td>0</td>\n",
       "      <td>...</td>\n",
       "      <td>0</td>\n",
       "      <td>1</td>\n",
       "      <td>0</td>\n",
       "      <td>0</td>\n",
       "      <td>0</td>\n",
       "      <td>0</td>\n",
       "      <td>1</td>\n",
       "      <td>0</td>\n",
       "      <td>0</td>\n",
       "      <td>0</td>\n",
       "    </tr>\n",
       "    <tr>\n",
       "      <td>48</td>\n",
       "      <td>0</td>\n",
       "      <td>0</td>\n",
       "      <td>0</td>\n",
       "      <td>0</td>\n",
       "      <td>0</td>\n",
       "      <td>1</td>\n",
       "      <td>0</td>\n",
       "      <td>0</td>\n",
       "      <td>0</td>\n",
       "      <td>1</td>\n",
       "      <td>...</td>\n",
       "      <td>0</td>\n",
       "      <td>1</td>\n",
       "      <td>0</td>\n",
       "      <td>0</td>\n",
       "      <td>0</td>\n",
       "      <td>0</td>\n",
       "      <td>1</td>\n",
       "      <td>0</td>\n",
       "      <td>0</td>\n",
       "      <td>0</td>\n",
       "    </tr>\n",
       "    <tr>\n",
       "      <td>67</td>\n",
       "      <td>1</td>\n",
       "      <td>0</td>\n",
       "      <td>0</td>\n",
       "      <td>0</td>\n",
       "      <td>0</td>\n",
       "      <td>1</td>\n",
       "      <td>0</td>\n",
       "      <td>0</td>\n",
       "      <td>0</td>\n",
       "      <td>0</td>\n",
       "      <td>...</td>\n",
       "      <td>0</td>\n",
       "      <td>1</td>\n",
       "      <td>0</td>\n",
       "      <td>0</td>\n",
       "      <td>0</td>\n",
       "      <td>0</td>\n",
       "      <td>1</td>\n",
       "      <td>0</td>\n",
       "      <td>0</td>\n",
       "      <td>0</td>\n",
       "    </tr>\n",
       "    <tr>\n",
       "      <td>71</td>\n",
       "      <td>1</td>\n",
       "      <td>0</td>\n",
       "      <td>0</td>\n",
       "      <td>0</td>\n",
       "      <td>0</td>\n",
       "      <td>1</td>\n",
       "      <td>0</td>\n",
       "      <td>0</td>\n",
       "      <td>0</td>\n",
       "      <td>0</td>\n",
       "      <td>...</td>\n",
       "      <td>0</td>\n",
       "      <td>1</td>\n",
       "      <td>0</td>\n",
       "      <td>0</td>\n",
       "      <td>0</td>\n",
       "      <td>0</td>\n",
       "      <td>1</td>\n",
       "      <td>0</td>\n",
       "      <td>0</td>\n",
       "      <td>0</td>\n",
       "    </tr>\n",
       "    <tr>\n",
       "      <td>92</td>\n",
       "      <td>0</td>\n",
       "      <td>0</td>\n",
       "      <td>0</td>\n",
       "      <td>0</td>\n",
       "      <td>0</td>\n",
       "      <td>1</td>\n",
       "      <td>0</td>\n",
       "      <td>0</td>\n",
       "      <td>0</td>\n",
       "      <td>0</td>\n",
       "      <td>...</td>\n",
       "      <td>0</td>\n",
       "      <td>0</td>\n",
       "      <td>0</td>\n",
       "      <td>0</td>\n",
       "      <td>1</td>\n",
       "      <td>0</td>\n",
       "      <td>1</td>\n",
       "      <td>0</td>\n",
       "      <td>0</td>\n",
       "      <td>0</td>\n",
       "    </tr>\n",
       "  </tbody>\n",
       "</table>\n",
       "<p>5 rows × 78 columns</p>\n",
       "</div>"
      ],
      "text/plain": [
       "    CASE_STATUS  FILING_YEAR_2012  FILING_YEAR_2013  FILING_YEAR_2014  \\\n",
       "40  0            0                 0                 0                  \n",
       "48  0            0                 0                 0                  \n",
       "67  1            0                 0                 0                  \n",
       "71  1            0                 0                 0                  \n",
       "92  0            0                 0                 0                  \n",
       "\n",
       "    FILING_YEAR_2015  FILING_YEAR_2016  WORKSITE_ALASKA  WORKSITE_ARIZONA  \\\n",
       "40  0                 1                 0                0                  \n",
       "48  0                 1                 0                0                  \n",
       "67  0                 1                 0                0                  \n",
       "71  0                 1                 0                0                  \n",
       "92  0                 1                 0                0                  \n",
       "\n",
       "    WORKSITE_ARKANSAS  WORKSITE_CALIFORNIA  ...  JOB_ACCEPTANCE_HA  \\\n",
       "40  0                  0                    ...  0                   \n",
       "48  0                  1                    ...  0                   \n",
       "67  0                  0                    ...  0                   \n",
       "71  0                  0                    ...  0                   \n",
       "92  0                  0                    ...  0                   \n",
       "\n",
       "    JOB_ACCEPTANCE_LA  JOB_ACCEPTANCE_MA  JOB_ACCEPTANCE_VHA  \\\n",
       "40  1                  0                  0                    \n",
       "48  1                  0                  0                    \n",
       "67  1                  0                  0                    \n",
       "71  1                  0                  0                    \n",
       "92  0                  0                  0                    \n",
       "\n",
       "    JOB_ACCEPTANCE_VLA  SOC_ACCEPTANCE_HA  SOC_ACCEPTANCE_LA  \\\n",
       "40  0                   0                  1                   \n",
       "48  0                   0                  1                   \n",
       "67  0                   0                  1                   \n",
       "71  0                   0                  1                   \n",
       "92  1                   0                  1                   \n",
       "\n",
       "    SOC_ACCEPTANCE_MA  SOC_ACCEPTANCE_VHA  SOC_ACCEPTANCE_VLA  \n",
       "40  0                  0                   0                   \n",
       "48  0                  0                   0                   \n",
       "67  0                  0                   0                   \n",
       "71  0                  0                   0                   \n",
       "92  0                  0                   0                   \n",
       "\n",
       "[5 rows x 78 columns]"
      ]
     },
     "execution_count": 41,
     "metadata": {},
     "output_type": "execute_result"
    }
   ],
   "source": [
    "final_df_train = pd.get_dummies(training_dataframe, columns=['FILING_YEAR', 'WORKSITE', 'FULL_TIME_POSITION', 'WAGE_CATEGORY', 'EMPLOYER_ACCEPTANCE',\n",
    "                                                             \n",
    "                                                                'JOB_ACCEPTANCE', 'SOC_ACCEPTANCE' ], drop_first=True)\n",
    "final_df_train.head()"
   ]
  },
  {
   "cell_type": "markdown",
   "metadata": {
    "_uuid": "b05bcd5ec36c8778086598ae0bbbbf8b702012a3"
   },
   "source": [
    "### Step 11: RFE for feature elimination"
   ]
  },
  {
   "cell_type": "code",
   "execution_count": 42,
   "metadata": {
    "_uuid": "556ab0ce916d1b0e95d94ac43f11ca61e74837e1"
   },
   "outputs": [
    {
     "name": "stderr",
     "output_type": "stream",
     "text": [
      "C:\\Users\\Work\\Anaconda3\\lib\\site-packages\\sklearn\\utils\\validation.py:71: FutureWarning: Pass n_features_to_select=30 as keyword args. From version 0.25 passing these as positional arguments will result in an error\n",
      "  FutureWarning)\n",
      "C:\\Users\\Work\\Anaconda3\\lib\\site-packages\\sklearn\\linear_model\\_logistic.py:764: ConvergenceWarning: lbfgs failed to converge (status=1):\n",
      "STOP: TOTAL NO. of ITERATIONS REACHED LIMIT.\n",
      "\n",
      "Increase the number of iterations (max_iter) or scale the data as shown in:\n",
      "    https://scikit-learn.org/stable/modules/preprocessing.html\n",
      "Please also refer to the documentation for alternative solver options:\n",
      "    https://scikit-learn.org/stable/modules/linear_model.html#logistic-regression\n",
      "  extra_warning_msg=_LOGISTIC_SOLVER_CONVERGENCE_MSG)\n",
      "C:\\Users\\Work\\Anaconda3\\lib\\site-packages\\sklearn\\linear_model\\_logistic.py:764: ConvergenceWarning: lbfgs failed to converge (status=1):\n",
      "STOP: TOTAL NO. of ITERATIONS REACHED LIMIT.\n",
      "\n",
      "Increase the number of iterations (max_iter) or scale the data as shown in:\n",
      "    https://scikit-learn.org/stable/modules/preprocessing.html\n",
      "Please also refer to the documentation for alternative solver options:\n",
      "    https://scikit-learn.org/stable/modules/linear_model.html#logistic-regression\n",
      "  extra_warning_msg=_LOGISTIC_SOLVER_CONVERGENCE_MSG)\n",
      "C:\\Users\\Work\\Anaconda3\\lib\\site-packages\\sklearn\\linear_model\\_logistic.py:764: ConvergenceWarning: lbfgs failed to converge (status=1):\n",
      "STOP: TOTAL NO. of ITERATIONS REACHED LIMIT.\n",
      "\n",
      "Increase the number of iterations (max_iter) or scale the data as shown in:\n",
      "    https://scikit-learn.org/stable/modules/preprocessing.html\n",
      "Please also refer to the documentation for alternative solver options:\n",
      "    https://scikit-learn.org/stable/modules/linear_model.html#logistic-regression\n",
      "  extra_warning_msg=_LOGISTIC_SOLVER_CONVERGENCE_MSG)\n",
      "C:\\Users\\Work\\Anaconda3\\lib\\site-packages\\sklearn\\linear_model\\_logistic.py:764: ConvergenceWarning: lbfgs failed to converge (status=1):\n",
      "STOP: TOTAL NO. of ITERATIONS REACHED LIMIT.\n",
      "\n",
      "Increase the number of iterations (max_iter) or scale the data as shown in:\n",
      "    https://scikit-learn.org/stable/modules/preprocessing.html\n",
      "Please also refer to the documentation for alternative solver options:\n",
      "    https://scikit-learn.org/stable/modules/linear_model.html#logistic-regression\n",
      "  extra_warning_msg=_LOGISTIC_SOLVER_CONVERGENCE_MSG)\n",
      "C:\\Users\\Work\\Anaconda3\\lib\\site-packages\\sklearn\\linear_model\\_logistic.py:764: ConvergenceWarning: lbfgs failed to converge (status=1):\n",
      "STOP: TOTAL NO. of ITERATIONS REACHED LIMIT.\n",
      "\n",
      "Increase the number of iterations (max_iter) or scale the data as shown in:\n",
      "    https://scikit-learn.org/stable/modules/preprocessing.html\n",
      "Please also refer to the documentation for alternative solver options:\n",
      "    https://scikit-learn.org/stable/modules/linear_model.html#logistic-regression\n",
      "  extra_warning_msg=_LOGISTIC_SOLVER_CONVERGENCE_MSG)\n",
      "C:\\Users\\Work\\Anaconda3\\lib\\site-packages\\sklearn\\linear_model\\_logistic.py:764: ConvergenceWarning: lbfgs failed to converge (status=1):\n",
      "STOP: TOTAL NO. of ITERATIONS REACHED LIMIT.\n",
      "\n",
      "Increase the number of iterations (max_iter) or scale the data as shown in:\n",
      "    https://scikit-learn.org/stable/modules/preprocessing.html\n",
      "Please also refer to the documentation for alternative solver options:\n",
      "    https://scikit-learn.org/stable/modules/linear_model.html#logistic-regression\n",
      "  extra_warning_msg=_LOGISTIC_SOLVER_CONVERGENCE_MSG)\n",
      "C:\\Users\\Work\\Anaconda3\\lib\\site-packages\\sklearn\\linear_model\\_logistic.py:764: ConvergenceWarning: lbfgs failed to converge (status=1):\n",
      "STOP: TOTAL NO. of ITERATIONS REACHED LIMIT.\n",
      "\n",
      "Increase the number of iterations (max_iter) or scale the data as shown in:\n",
      "    https://scikit-learn.org/stable/modules/preprocessing.html\n",
      "Please also refer to the documentation for alternative solver options:\n",
      "    https://scikit-learn.org/stable/modules/linear_model.html#logistic-regression\n",
      "  extra_warning_msg=_LOGISTIC_SOLVER_CONVERGENCE_MSG)\n",
      "C:\\Users\\Work\\Anaconda3\\lib\\site-packages\\sklearn\\linear_model\\_logistic.py:764: ConvergenceWarning: lbfgs failed to converge (status=1):\n",
      "STOP: TOTAL NO. of ITERATIONS REACHED LIMIT.\n",
      "\n",
      "Increase the number of iterations (max_iter) or scale the data as shown in:\n",
      "    https://scikit-learn.org/stable/modules/preprocessing.html\n",
      "Please also refer to the documentation for alternative solver options:\n",
      "    https://scikit-learn.org/stable/modules/linear_model.html#logistic-regression\n",
      "  extra_warning_msg=_LOGISTIC_SOLVER_CONVERGENCE_MSG)\n",
      "C:\\Users\\Work\\Anaconda3\\lib\\site-packages\\sklearn\\linear_model\\_logistic.py:764: ConvergenceWarning: lbfgs failed to converge (status=1):\n",
      "STOP: TOTAL NO. of ITERATIONS REACHED LIMIT.\n",
      "\n",
      "Increase the number of iterations (max_iter) or scale the data as shown in:\n",
      "    https://scikit-learn.org/stable/modules/preprocessing.html\n",
      "Please also refer to the documentation for alternative solver options:\n",
      "    https://scikit-learn.org/stable/modules/linear_model.html#logistic-regression\n",
      "  extra_warning_msg=_LOGISTIC_SOLVER_CONVERGENCE_MSG)\n",
      "C:\\Users\\Work\\Anaconda3\\lib\\site-packages\\sklearn\\linear_model\\_logistic.py:764: ConvergenceWarning: lbfgs failed to converge (status=1):\n",
      "STOP: TOTAL NO. of ITERATIONS REACHED LIMIT.\n",
      "\n",
      "Increase the number of iterations (max_iter) or scale the data as shown in:\n",
      "    https://scikit-learn.org/stable/modules/preprocessing.html\n",
      "Please also refer to the documentation for alternative solver options:\n",
      "    https://scikit-learn.org/stable/modules/linear_model.html#logistic-regression\n",
      "  extra_warning_msg=_LOGISTIC_SOLVER_CONVERGENCE_MSG)\n",
      "C:\\Users\\Work\\Anaconda3\\lib\\site-packages\\sklearn\\linear_model\\_logistic.py:764: ConvergenceWarning: lbfgs failed to converge (status=1):\n",
      "STOP: TOTAL NO. of ITERATIONS REACHED LIMIT.\n",
      "\n",
      "Increase the number of iterations (max_iter) or scale the data as shown in:\n",
      "    https://scikit-learn.org/stable/modules/preprocessing.html\n",
      "Please also refer to the documentation for alternative solver options:\n",
      "    https://scikit-learn.org/stable/modules/linear_model.html#logistic-regression\n",
      "  extra_warning_msg=_LOGISTIC_SOLVER_CONVERGENCE_MSG)\n",
      "C:\\Users\\Work\\Anaconda3\\lib\\site-packages\\sklearn\\linear_model\\_logistic.py:764: ConvergenceWarning: lbfgs failed to converge (status=1):\n",
      "STOP: TOTAL NO. of ITERATIONS REACHED LIMIT.\n",
      "\n",
      "Increase the number of iterations (max_iter) or scale the data as shown in:\n",
      "    https://scikit-learn.org/stable/modules/preprocessing.html\n",
      "Please also refer to the documentation for alternative solver options:\n",
      "    https://scikit-learn.org/stable/modules/linear_model.html#logistic-regression\n",
      "  extra_warning_msg=_LOGISTIC_SOLVER_CONVERGENCE_MSG)\n",
      "C:\\Users\\Work\\Anaconda3\\lib\\site-packages\\sklearn\\linear_model\\_logistic.py:764: ConvergenceWarning: lbfgs failed to converge (status=1):\n",
      "STOP: TOTAL NO. of ITERATIONS REACHED LIMIT.\n",
      "\n",
      "Increase the number of iterations (max_iter) or scale the data as shown in:\n",
      "    https://scikit-learn.org/stable/modules/preprocessing.html\n",
      "Please also refer to the documentation for alternative solver options:\n",
      "    https://scikit-learn.org/stable/modules/linear_model.html#logistic-regression\n",
      "  extra_warning_msg=_LOGISTIC_SOLVER_CONVERGENCE_MSG)\n",
      "C:\\Users\\Work\\Anaconda3\\lib\\site-packages\\sklearn\\linear_model\\_logistic.py:764: ConvergenceWarning: lbfgs failed to converge (status=1):\n",
      "STOP: TOTAL NO. of ITERATIONS REACHED LIMIT.\n",
      "\n",
      "Increase the number of iterations (max_iter) or scale the data as shown in:\n",
      "    https://scikit-learn.org/stable/modules/preprocessing.html\n",
      "Please also refer to the documentation for alternative solver options:\n",
      "    https://scikit-learn.org/stable/modules/linear_model.html#logistic-regression\n",
      "  extra_warning_msg=_LOGISTIC_SOLVER_CONVERGENCE_MSG)\n",
      "C:\\Users\\Work\\Anaconda3\\lib\\site-packages\\sklearn\\linear_model\\_logistic.py:764: ConvergenceWarning: lbfgs failed to converge (status=1):\n",
      "STOP: TOTAL NO. of ITERATIONS REACHED LIMIT.\n",
      "\n",
      "Increase the number of iterations (max_iter) or scale the data as shown in:\n",
      "    https://scikit-learn.org/stable/modules/preprocessing.html\n",
      "Please also refer to the documentation for alternative solver options:\n",
      "    https://scikit-learn.org/stable/modules/linear_model.html#logistic-regression\n",
      "  extra_warning_msg=_LOGISTIC_SOLVER_CONVERGENCE_MSG)\n",
      "C:\\Users\\Work\\Anaconda3\\lib\\site-packages\\sklearn\\linear_model\\_logistic.py:764: ConvergenceWarning: lbfgs failed to converge (status=1):\n",
      "STOP: TOTAL NO. of ITERATIONS REACHED LIMIT.\n",
      "\n",
      "Increase the number of iterations (max_iter) or scale the data as shown in:\n",
      "    https://scikit-learn.org/stable/modules/preprocessing.html\n",
      "Please also refer to the documentation for alternative solver options:\n",
      "    https://scikit-learn.org/stable/modules/linear_model.html#logistic-regression\n",
      "  extra_warning_msg=_LOGISTIC_SOLVER_CONVERGENCE_MSG)\n"
     ]
    },
    {
     "name": "stderr",
     "output_type": "stream",
     "text": [
      "C:\\Users\\Work\\Anaconda3\\lib\\site-packages\\sklearn\\linear_model\\_logistic.py:764: ConvergenceWarning: lbfgs failed to converge (status=1):\n",
      "STOP: TOTAL NO. of ITERATIONS REACHED LIMIT.\n",
      "\n",
      "Increase the number of iterations (max_iter) or scale the data as shown in:\n",
      "    https://scikit-learn.org/stable/modules/preprocessing.html\n",
      "Please also refer to the documentation for alternative solver options:\n",
      "    https://scikit-learn.org/stable/modules/linear_model.html#logistic-regression\n",
      "  extra_warning_msg=_LOGISTIC_SOLVER_CONVERGENCE_MSG)\n",
      "C:\\Users\\Work\\Anaconda3\\lib\\site-packages\\sklearn\\linear_model\\_logistic.py:764: ConvergenceWarning: lbfgs failed to converge (status=1):\n",
      "STOP: TOTAL NO. of ITERATIONS REACHED LIMIT.\n",
      "\n",
      "Increase the number of iterations (max_iter) or scale the data as shown in:\n",
      "    https://scikit-learn.org/stable/modules/preprocessing.html\n",
      "Please also refer to the documentation for alternative solver options:\n",
      "    https://scikit-learn.org/stable/modules/linear_model.html#logistic-regression\n",
      "  extra_warning_msg=_LOGISTIC_SOLVER_CONVERGENCE_MSG)\n",
      "C:\\Users\\Work\\Anaconda3\\lib\\site-packages\\sklearn\\linear_model\\_logistic.py:764: ConvergenceWarning: lbfgs failed to converge (status=1):\n",
      "STOP: TOTAL NO. of ITERATIONS REACHED LIMIT.\n",
      "\n",
      "Increase the number of iterations (max_iter) or scale the data as shown in:\n",
      "    https://scikit-learn.org/stable/modules/preprocessing.html\n",
      "Please also refer to the documentation for alternative solver options:\n",
      "    https://scikit-learn.org/stable/modules/linear_model.html#logistic-regression\n",
      "  extra_warning_msg=_LOGISTIC_SOLVER_CONVERGENCE_MSG)\n",
      "C:\\Users\\Work\\Anaconda3\\lib\\site-packages\\sklearn\\linear_model\\_logistic.py:764: ConvergenceWarning: lbfgs failed to converge (status=1):\n",
      "STOP: TOTAL NO. of ITERATIONS REACHED LIMIT.\n",
      "\n",
      "Increase the number of iterations (max_iter) or scale the data as shown in:\n",
      "    https://scikit-learn.org/stable/modules/preprocessing.html\n",
      "Please also refer to the documentation for alternative solver options:\n",
      "    https://scikit-learn.org/stable/modules/linear_model.html#logistic-regression\n",
      "  extra_warning_msg=_LOGISTIC_SOLVER_CONVERGENCE_MSG)\n",
      "C:\\Users\\Work\\Anaconda3\\lib\\site-packages\\sklearn\\linear_model\\_logistic.py:764: ConvergenceWarning: lbfgs failed to converge (status=1):\n",
      "STOP: TOTAL NO. of ITERATIONS REACHED LIMIT.\n",
      "\n",
      "Increase the number of iterations (max_iter) or scale the data as shown in:\n",
      "    https://scikit-learn.org/stable/modules/preprocessing.html\n",
      "Please also refer to the documentation for alternative solver options:\n",
      "    https://scikit-learn.org/stable/modules/linear_model.html#logistic-regression\n",
      "  extra_warning_msg=_LOGISTIC_SOLVER_CONVERGENCE_MSG)\n",
      "C:\\Users\\Work\\Anaconda3\\lib\\site-packages\\sklearn\\linear_model\\_logistic.py:764: ConvergenceWarning: lbfgs failed to converge (status=1):\n",
      "STOP: TOTAL NO. of ITERATIONS REACHED LIMIT.\n",
      "\n",
      "Increase the number of iterations (max_iter) or scale the data as shown in:\n",
      "    https://scikit-learn.org/stable/modules/preprocessing.html\n",
      "Please also refer to the documentation for alternative solver options:\n",
      "    https://scikit-learn.org/stable/modules/linear_model.html#logistic-regression\n",
      "  extra_warning_msg=_LOGISTIC_SOLVER_CONVERGENCE_MSG)\n",
      "C:\\Users\\Work\\Anaconda3\\lib\\site-packages\\sklearn\\linear_model\\_logistic.py:764: ConvergenceWarning: lbfgs failed to converge (status=1):\n",
      "STOP: TOTAL NO. of ITERATIONS REACHED LIMIT.\n",
      "\n",
      "Increase the number of iterations (max_iter) or scale the data as shown in:\n",
      "    https://scikit-learn.org/stable/modules/preprocessing.html\n",
      "Please also refer to the documentation for alternative solver options:\n",
      "    https://scikit-learn.org/stable/modules/linear_model.html#logistic-regression\n",
      "  extra_warning_msg=_LOGISTIC_SOLVER_CONVERGENCE_MSG)\n",
      "C:\\Users\\Work\\Anaconda3\\lib\\site-packages\\sklearn\\linear_model\\_logistic.py:764: ConvergenceWarning: lbfgs failed to converge (status=1):\n",
      "STOP: TOTAL NO. of ITERATIONS REACHED LIMIT.\n",
      "\n",
      "Increase the number of iterations (max_iter) or scale the data as shown in:\n",
      "    https://scikit-learn.org/stable/modules/preprocessing.html\n",
      "Please also refer to the documentation for alternative solver options:\n",
      "    https://scikit-learn.org/stable/modules/linear_model.html#logistic-regression\n",
      "  extra_warning_msg=_LOGISTIC_SOLVER_CONVERGENCE_MSG)\n",
      "C:\\Users\\Work\\Anaconda3\\lib\\site-packages\\sklearn\\linear_model\\_logistic.py:764: ConvergenceWarning: lbfgs failed to converge (status=1):\n",
      "STOP: TOTAL NO. of ITERATIONS REACHED LIMIT.\n",
      "\n",
      "Increase the number of iterations (max_iter) or scale the data as shown in:\n",
      "    https://scikit-learn.org/stable/modules/preprocessing.html\n",
      "Please also refer to the documentation for alternative solver options:\n",
      "    https://scikit-learn.org/stable/modules/linear_model.html#logistic-regression\n",
      "  extra_warning_msg=_LOGISTIC_SOLVER_CONVERGENCE_MSG)\n"
     ]
    },
    {
     "ename": "KeyboardInterrupt",
     "evalue": "",
     "output_type": "error",
     "traceback": [
      "\u001b[1;31m---------------------------------------------------------------------------\u001b[0m",
      "\u001b[1;31mKeyboardInterrupt\u001b[0m                         Traceback (most recent call last)",
      "\u001b[1;32m<ipython-input-42-2edde3020d71>\u001b[0m in \u001b[0;36m<module>\u001b[1;34m\u001b[0m\n\u001b[0;32m      1\u001b[0m \u001b[0mmodel\u001b[0m \u001b[1;33m=\u001b[0m \u001b[0mLogisticRegression\u001b[0m\u001b[1;33m(\u001b[0m\u001b[1;33m)\u001b[0m\u001b[1;33m\u001b[0m\u001b[1;33m\u001b[0m\u001b[0m\n\u001b[0;32m      2\u001b[0m \u001b[0mrfe\u001b[0m \u001b[1;33m=\u001b[0m \u001b[0mRFE\u001b[0m\u001b[1;33m(\u001b[0m\u001b[0mmodel\u001b[0m\u001b[1;33m,\u001b[0m \u001b[1;36m30\u001b[0m\u001b[1;33m)\u001b[0m\u001b[1;33m\u001b[0m\u001b[1;33m\u001b[0m\u001b[0m\n\u001b[1;32m----> 3\u001b[1;33m \u001b[0mfit\u001b[0m \u001b[1;33m=\u001b[0m \u001b[0mrfe\u001b[0m\u001b[1;33m.\u001b[0m\u001b[0mfit\u001b[0m\u001b[1;33m(\u001b[0m\u001b[0mfinal_df_train\u001b[0m\u001b[1;33m.\u001b[0m\u001b[0miloc\u001b[0m\u001b[1;33m[\u001b[0m\u001b[1;33m:\u001b[0m\u001b[1;33m,\u001b[0m\u001b[1;36m1\u001b[0m\u001b[1;33m:\u001b[0m\u001b[1;33m]\u001b[0m\u001b[1;33m,\u001b[0m \u001b[0mfinal_df_train\u001b[0m\u001b[1;33m.\u001b[0m\u001b[0miloc\u001b[0m\u001b[1;33m[\u001b[0m\u001b[1;33m:\u001b[0m\u001b[1;33m,\u001b[0m\u001b[1;36m0\u001b[0m\u001b[1;33m]\u001b[0m\u001b[1;33m)\u001b[0m\u001b[1;33m\u001b[0m\u001b[1;33m\u001b[0m\u001b[0m\n\u001b[0m\u001b[0;32m      4\u001b[0m \u001b[0msupport_rfe\u001b[0m \u001b[1;33m=\u001b[0m \u001b[0mrfe\u001b[0m\u001b[1;33m.\u001b[0m\u001b[0msupport_\u001b[0m\u001b[1;33m\u001b[0m\u001b[1;33m\u001b[0m\u001b[0m\n\u001b[0;32m      5\u001b[0m \u001b[0mlength_cols\u001b[0m \u001b[1;33m=\u001b[0m \u001b[0mlist\u001b[0m\u001b[1;33m(\u001b[0m\u001b[0mfinal_df_train\u001b[0m\u001b[1;33m.\u001b[0m\u001b[0miloc\u001b[0m\u001b[1;33m[\u001b[0m\u001b[1;33m:\u001b[0m\u001b[1;33m,\u001b[0m\u001b[1;36m1\u001b[0m\u001b[1;33m:\u001b[0m\u001b[1;33m]\u001b[0m\u001b[1;33m.\u001b[0m\u001b[0mcolumns\u001b[0m\u001b[1;33m.\u001b[0m\u001b[0mvalues\u001b[0m\u001b[1;33m)\u001b[0m\u001b[1;33m\u001b[0m\u001b[1;33m\u001b[0m\u001b[0m\n",
      "\u001b[1;32m~\\Anaconda3\\lib\\site-packages\\sklearn\\feature_selection\\_rfe.py\u001b[0m in \u001b[0;36mfit\u001b[1;34m(self, X, y)\u001b[0m\n\u001b[0;32m    149\u001b[0m             \u001b[0mThe\u001b[0m \u001b[0mtarget\u001b[0m \u001b[0mvalues\u001b[0m\u001b[1;33m.\u001b[0m\u001b[1;33m\u001b[0m\u001b[1;33m\u001b[0m\u001b[0m\n\u001b[0;32m    150\u001b[0m         \"\"\"\n\u001b[1;32m--> 151\u001b[1;33m         \u001b[1;32mreturn\u001b[0m \u001b[0mself\u001b[0m\u001b[1;33m.\u001b[0m\u001b[0m_fit\u001b[0m\u001b[1;33m(\u001b[0m\u001b[0mX\u001b[0m\u001b[1;33m,\u001b[0m \u001b[0my\u001b[0m\u001b[1;33m)\u001b[0m\u001b[1;33m\u001b[0m\u001b[1;33m\u001b[0m\u001b[0m\n\u001b[0m\u001b[0;32m    152\u001b[0m \u001b[1;33m\u001b[0m\u001b[0m\n\u001b[0;32m    153\u001b[0m     \u001b[1;32mdef\u001b[0m \u001b[0m_fit\u001b[0m\u001b[1;33m(\u001b[0m\u001b[0mself\u001b[0m\u001b[1;33m,\u001b[0m \u001b[0mX\u001b[0m\u001b[1;33m,\u001b[0m \u001b[0my\u001b[0m\u001b[1;33m,\u001b[0m \u001b[0mstep_score\u001b[0m\u001b[1;33m=\u001b[0m\u001b[1;32mNone\u001b[0m\u001b[1;33m)\u001b[0m\u001b[1;33m:\u001b[0m\u001b[1;33m\u001b[0m\u001b[1;33m\u001b[0m\u001b[0m\n",
      "\u001b[1;32m~\\Anaconda3\\lib\\site-packages\\sklearn\\feature_selection\\_rfe.py\u001b[0m in \u001b[0;36m_fit\u001b[1;34m(self, X, y, step_score)\u001b[0m\n\u001b[0;32m    194\u001b[0m                 \u001b[0mprint\u001b[0m\u001b[1;33m(\u001b[0m\u001b[1;34m\"Fitting estimator with %d features.\"\u001b[0m \u001b[1;33m%\u001b[0m \u001b[0mnp\u001b[0m\u001b[1;33m.\u001b[0m\u001b[0msum\u001b[0m\u001b[1;33m(\u001b[0m\u001b[0msupport_\u001b[0m\u001b[1;33m)\u001b[0m\u001b[1;33m)\u001b[0m\u001b[1;33m\u001b[0m\u001b[1;33m\u001b[0m\u001b[0m\n\u001b[0;32m    195\u001b[0m \u001b[1;33m\u001b[0m\u001b[0m\n\u001b[1;32m--> 196\u001b[1;33m             \u001b[0mestimator\u001b[0m\u001b[1;33m.\u001b[0m\u001b[0mfit\u001b[0m\u001b[1;33m(\u001b[0m\u001b[0mX\u001b[0m\u001b[1;33m[\u001b[0m\u001b[1;33m:\u001b[0m\u001b[1;33m,\u001b[0m \u001b[0mfeatures\u001b[0m\u001b[1;33m]\u001b[0m\u001b[1;33m,\u001b[0m \u001b[0my\u001b[0m\u001b[1;33m)\u001b[0m\u001b[1;33m\u001b[0m\u001b[1;33m\u001b[0m\u001b[0m\n\u001b[0m\u001b[0;32m    197\u001b[0m \u001b[1;33m\u001b[0m\u001b[0m\n\u001b[0;32m    198\u001b[0m             \u001b[1;31m# Get coefs\u001b[0m\u001b[1;33m\u001b[0m\u001b[1;33m\u001b[0m\u001b[1;33m\u001b[0m\u001b[0m\n",
      "\u001b[1;32m~\\Anaconda3\\lib\\site-packages\\sklearn\\linear_model\\_logistic.py\u001b[0m in \u001b[0;36mfit\u001b[1;34m(self, X, y, sample_weight)\u001b[0m\n\u001b[0;32m   1415\u001b[0m                       \u001b[0mpenalty\u001b[0m\u001b[1;33m=\u001b[0m\u001b[0mpenalty\u001b[0m\u001b[1;33m,\u001b[0m \u001b[0mmax_squared_sum\u001b[0m\u001b[1;33m=\u001b[0m\u001b[0mmax_squared_sum\u001b[0m\u001b[1;33m,\u001b[0m\u001b[1;33m\u001b[0m\u001b[1;33m\u001b[0m\u001b[0m\n\u001b[0;32m   1416\u001b[0m                       sample_weight=sample_weight)\n\u001b[1;32m-> 1417\u001b[1;33m             for class_, warm_start_coef_ in zip(classes_, warm_start_coef))\n\u001b[0m\u001b[0;32m   1418\u001b[0m \u001b[1;33m\u001b[0m\u001b[0m\n\u001b[0;32m   1419\u001b[0m         \u001b[0mfold_coefs_\u001b[0m\u001b[1;33m,\u001b[0m \u001b[0m_\u001b[0m\u001b[1;33m,\u001b[0m \u001b[0mn_iter_\u001b[0m \u001b[1;33m=\u001b[0m \u001b[0mzip\u001b[0m\u001b[1;33m(\u001b[0m\u001b[1;33m*\u001b[0m\u001b[0mfold_coefs_\u001b[0m\u001b[1;33m)\u001b[0m\u001b[1;33m\u001b[0m\u001b[1;33m\u001b[0m\u001b[0m\n",
      "\u001b[1;32m~\\Anaconda3\\lib\\site-packages\\joblib\\parallel.py\u001b[0m in \u001b[0;36m__call__\u001b[1;34m(self, iterable)\u001b[0m\n\u001b[0;32m    919\u001b[0m             \u001b[1;31m# remaining jobs.\u001b[0m\u001b[1;33m\u001b[0m\u001b[1;33m\u001b[0m\u001b[1;33m\u001b[0m\u001b[0m\n\u001b[0;32m    920\u001b[0m             \u001b[0mself\u001b[0m\u001b[1;33m.\u001b[0m\u001b[0m_iterating\u001b[0m \u001b[1;33m=\u001b[0m \u001b[1;32mFalse\u001b[0m\u001b[1;33m\u001b[0m\u001b[1;33m\u001b[0m\u001b[0m\n\u001b[1;32m--> 921\u001b[1;33m             \u001b[1;32mif\u001b[0m \u001b[0mself\u001b[0m\u001b[1;33m.\u001b[0m\u001b[0mdispatch_one_batch\u001b[0m\u001b[1;33m(\u001b[0m\u001b[0miterator\u001b[0m\u001b[1;33m)\u001b[0m\u001b[1;33m:\u001b[0m\u001b[1;33m\u001b[0m\u001b[1;33m\u001b[0m\u001b[0m\n\u001b[0m\u001b[0;32m    922\u001b[0m                 \u001b[0mself\u001b[0m\u001b[1;33m.\u001b[0m\u001b[0m_iterating\u001b[0m \u001b[1;33m=\u001b[0m \u001b[0mself\u001b[0m\u001b[1;33m.\u001b[0m\u001b[0m_original_iterator\u001b[0m \u001b[1;32mis\u001b[0m \u001b[1;32mnot\u001b[0m \u001b[1;32mNone\u001b[0m\u001b[1;33m\u001b[0m\u001b[1;33m\u001b[0m\u001b[0m\n\u001b[0;32m    923\u001b[0m \u001b[1;33m\u001b[0m\u001b[0m\n",
      "\u001b[1;32m~\\Anaconda3\\lib\\site-packages\\joblib\\parallel.py\u001b[0m in \u001b[0;36mdispatch_one_batch\u001b[1;34m(self, iterator)\u001b[0m\n\u001b[0;32m    757\u001b[0m                 \u001b[1;32mreturn\u001b[0m \u001b[1;32mFalse\u001b[0m\u001b[1;33m\u001b[0m\u001b[1;33m\u001b[0m\u001b[0m\n\u001b[0;32m    758\u001b[0m             \u001b[1;32melse\u001b[0m\u001b[1;33m:\u001b[0m\u001b[1;33m\u001b[0m\u001b[1;33m\u001b[0m\u001b[0m\n\u001b[1;32m--> 759\u001b[1;33m                 \u001b[0mself\u001b[0m\u001b[1;33m.\u001b[0m\u001b[0m_dispatch\u001b[0m\u001b[1;33m(\u001b[0m\u001b[0mtasks\u001b[0m\u001b[1;33m)\u001b[0m\u001b[1;33m\u001b[0m\u001b[1;33m\u001b[0m\u001b[0m\n\u001b[0m\u001b[0;32m    760\u001b[0m                 \u001b[1;32mreturn\u001b[0m \u001b[1;32mTrue\u001b[0m\u001b[1;33m\u001b[0m\u001b[1;33m\u001b[0m\u001b[0m\n\u001b[0;32m    761\u001b[0m \u001b[1;33m\u001b[0m\u001b[0m\n",
      "\u001b[1;32m~\\Anaconda3\\lib\\site-packages\\joblib\\parallel.py\u001b[0m in \u001b[0;36m_dispatch\u001b[1;34m(self, batch)\u001b[0m\n\u001b[0;32m    714\u001b[0m         \u001b[1;32mwith\u001b[0m \u001b[0mself\u001b[0m\u001b[1;33m.\u001b[0m\u001b[0m_lock\u001b[0m\u001b[1;33m:\u001b[0m\u001b[1;33m\u001b[0m\u001b[1;33m\u001b[0m\u001b[0m\n\u001b[0;32m    715\u001b[0m             \u001b[0mjob_idx\u001b[0m \u001b[1;33m=\u001b[0m \u001b[0mlen\u001b[0m\u001b[1;33m(\u001b[0m\u001b[0mself\u001b[0m\u001b[1;33m.\u001b[0m\u001b[0m_jobs\u001b[0m\u001b[1;33m)\u001b[0m\u001b[1;33m\u001b[0m\u001b[1;33m\u001b[0m\u001b[0m\n\u001b[1;32m--> 716\u001b[1;33m             \u001b[0mjob\u001b[0m \u001b[1;33m=\u001b[0m \u001b[0mself\u001b[0m\u001b[1;33m.\u001b[0m\u001b[0m_backend\u001b[0m\u001b[1;33m.\u001b[0m\u001b[0mapply_async\u001b[0m\u001b[1;33m(\u001b[0m\u001b[0mbatch\u001b[0m\u001b[1;33m,\u001b[0m \u001b[0mcallback\u001b[0m\u001b[1;33m=\u001b[0m\u001b[0mcb\u001b[0m\u001b[1;33m)\u001b[0m\u001b[1;33m\u001b[0m\u001b[1;33m\u001b[0m\u001b[0m\n\u001b[0m\u001b[0;32m    717\u001b[0m             \u001b[1;31m# A job can complete so quickly than its callback is\u001b[0m\u001b[1;33m\u001b[0m\u001b[1;33m\u001b[0m\u001b[1;33m\u001b[0m\u001b[0m\n\u001b[0;32m    718\u001b[0m             \u001b[1;31m# called before we get here, causing self._jobs to\u001b[0m\u001b[1;33m\u001b[0m\u001b[1;33m\u001b[0m\u001b[1;33m\u001b[0m\u001b[0m\n",
      "\u001b[1;32m~\\Anaconda3\\lib\\site-packages\\joblib\\_parallel_backends.py\u001b[0m in \u001b[0;36mapply_async\u001b[1;34m(self, func, callback)\u001b[0m\n\u001b[0;32m    180\u001b[0m     \u001b[1;32mdef\u001b[0m \u001b[0mapply_async\u001b[0m\u001b[1;33m(\u001b[0m\u001b[0mself\u001b[0m\u001b[1;33m,\u001b[0m \u001b[0mfunc\u001b[0m\u001b[1;33m,\u001b[0m \u001b[0mcallback\u001b[0m\u001b[1;33m=\u001b[0m\u001b[1;32mNone\u001b[0m\u001b[1;33m)\u001b[0m\u001b[1;33m:\u001b[0m\u001b[1;33m\u001b[0m\u001b[1;33m\u001b[0m\u001b[0m\n\u001b[0;32m    181\u001b[0m         \u001b[1;34m\"\"\"Schedule a func to be run\"\"\"\u001b[0m\u001b[1;33m\u001b[0m\u001b[1;33m\u001b[0m\u001b[0m\n\u001b[1;32m--> 182\u001b[1;33m         \u001b[0mresult\u001b[0m \u001b[1;33m=\u001b[0m \u001b[0mImmediateResult\u001b[0m\u001b[1;33m(\u001b[0m\u001b[0mfunc\u001b[0m\u001b[1;33m)\u001b[0m\u001b[1;33m\u001b[0m\u001b[1;33m\u001b[0m\u001b[0m\n\u001b[0m\u001b[0;32m    183\u001b[0m         \u001b[1;32mif\u001b[0m \u001b[0mcallback\u001b[0m\u001b[1;33m:\u001b[0m\u001b[1;33m\u001b[0m\u001b[1;33m\u001b[0m\u001b[0m\n\u001b[0;32m    184\u001b[0m             \u001b[0mcallback\u001b[0m\u001b[1;33m(\u001b[0m\u001b[0mresult\u001b[0m\u001b[1;33m)\u001b[0m\u001b[1;33m\u001b[0m\u001b[1;33m\u001b[0m\u001b[0m\n",
      "\u001b[1;32m~\\Anaconda3\\lib\\site-packages\\joblib\\_parallel_backends.py\u001b[0m in \u001b[0;36m__init__\u001b[1;34m(self, batch)\u001b[0m\n\u001b[0;32m    547\u001b[0m         \u001b[1;31m# Don't delay the application, to avoid keeping the input\u001b[0m\u001b[1;33m\u001b[0m\u001b[1;33m\u001b[0m\u001b[1;33m\u001b[0m\u001b[0m\n\u001b[0;32m    548\u001b[0m         \u001b[1;31m# arguments in memory\u001b[0m\u001b[1;33m\u001b[0m\u001b[1;33m\u001b[0m\u001b[1;33m\u001b[0m\u001b[0m\n\u001b[1;32m--> 549\u001b[1;33m         \u001b[0mself\u001b[0m\u001b[1;33m.\u001b[0m\u001b[0mresults\u001b[0m \u001b[1;33m=\u001b[0m \u001b[0mbatch\u001b[0m\u001b[1;33m(\u001b[0m\u001b[1;33m)\u001b[0m\u001b[1;33m\u001b[0m\u001b[1;33m\u001b[0m\u001b[0m\n\u001b[0m\u001b[0;32m    550\u001b[0m \u001b[1;33m\u001b[0m\u001b[0m\n\u001b[0;32m    551\u001b[0m     \u001b[1;32mdef\u001b[0m \u001b[0mget\u001b[0m\u001b[1;33m(\u001b[0m\u001b[0mself\u001b[0m\u001b[1;33m)\u001b[0m\u001b[1;33m:\u001b[0m\u001b[1;33m\u001b[0m\u001b[1;33m\u001b[0m\u001b[0m\n",
      "\u001b[1;32m~\\Anaconda3\\lib\\site-packages\\joblib\\parallel.py\u001b[0m in \u001b[0;36m__call__\u001b[1;34m(self)\u001b[0m\n\u001b[0;32m    223\u001b[0m         \u001b[1;32mwith\u001b[0m \u001b[0mparallel_backend\u001b[0m\u001b[1;33m(\u001b[0m\u001b[0mself\u001b[0m\u001b[1;33m.\u001b[0m\u001b[0m_backend\u001b[0m\u001b[1;33m,\u001b[0m \u001b[0mn_jobs\u001b[0m\u001b[1;33m=\u001b[0m\u001b[0mself\u001b[0m\u001b[1;33m.\u001b[0m\u001b[0m_n_jobs\u001b[0m\u001b[1;33m)\u001b[0m\u001b[1;33m:\u001b[0m\u001b[1;33m\u001b[0m\u001b[1;33m\u001b[0m\u001b[0m\n\u001b[0;32m    224\u001b[0m             return [func(*args, **kwargs)\n\u001b[1;32m--> 225\u001b[1;33m                     for func, args, kwargs in self.items]\n\u001b[0m\u001b[0;32m    226\u001b[0m \u001b[1;33m\u001b[0m\u001b[0m\n\u001b[0;32m    227\u001b[0m     \u001b[1;32mdef\u001b[0m \u001b[0m__len__\u001b[0m\u001b[1;33m(\u001b[0m\u001b[0mself\u001b[0m\u001b[1;33m)\u001b[0m\u001b[1;33m:\u001b[0m\u001b[1;33m\u001b[0m\u001b[1;33m\u001b[0m\u001b[0m\n",
      "\u001b[1;32m~\\Anaconda3\\lib\\site-packages\\joblib\\parallel.py\u001b[0m in \u001b[0;36m<listcomp>\u001b[1;34m(.0)\u001b[0m\n\u001b[0;32m    223\u001b[0m         \u001b[1;32mwith\u001b[0m \u001b[0mparallel_backend\u001b[0m\u001b[1;33m(\u001b[0m\u001b[0mself\u001b[0m\u001b[1;33m.\u001b[0m\u001b[0m_backend\u001b[0m\u001b[1;33m,\u001b[0m \u001b[0mn_jobs\u001b[0m\u001b[1;33m=\u001b[0m\u001b[0mself\u001b[0m\u001b[1;33m.\u001b[0m\u001b[0m_n_jobs\u001b[0m\u001b[1;33m)\u001b[0m\u001b[1;33m:\u001b[0m\u001b[1;33m\u001b[0m\u001b[1;33m\u001b[0m\u001b[0m\n\u001b[0;32m    224\u001b[0m             return [func(*args, **kwargs)\n\u001b[1;32m--> 225\u001b[1;33m                     for func, args, kwargs in self.items]\n\u001b[0m\u001b[0;32m    226\u001b[0m \u001b[1;33m\u001b[0m\u001b[0m\n\u001b[0;32m    227\u001b[0m     \u001b[1;32mdef\u001b[0m \u001b[0m__len__\u001b[0m\u001b[1;33m(\u001b[0m\u001b[0mself\u001b[0m\u001b[1;33m)\u001b[0m\u001b[1;33m:\u001b[0m\u001b[1;33m\u001b[0m\u001b[1;33m\u001b[0m\u001b[0m\n",
      "\u001b[1;32m~\\Anaconda3\\lib\\site-packages\\sklearn\\linear_model\\_logistic.py\u001b[0m in \u001b[0;36m_logistic_regression_path\u001b[1;34m(X, y, pos_class, Cs, fit_intercept, max_iter, tol, verbose, solver, coef, class_weight, dual, penalty, intercept_scaling, multi_class, random_state, check_input, max_squared_sum, sample_weight, l1_ratio)\u001b[0m\n\u001b[0;32m    758\u001b[0m                 \u001b[0mfunc\u001b[0m\u001b[1;33m,\u001b[0m \u001b[0mw0\u001b[0m\u001b[1;33m,\u001b[0m \u001b[0mmethod\u001b[0m\u001b[1;33m=\u001b[0m\u001b[1;34m\"L-BFGS-B\"\u001b[0m\u001b[1;33m,\u001b[0m \u001b[0mjac\u001b[0m\u001b[1;33m=\u001b[0m\u001b[1;32mTrue\u001b[0m\u001b[1;33m,\u001b[0m\u001b[1;33m\u001b[0m\u001b[1;33m\u001b[0m\u001b[0m\n\u001b[0;32m    759\u001b[0m                 \u001b[0margs\u001b[0m\u001b[1;33m=\u001b[0m\u001b[1;33m(\u001b[0m\u001b[0mX\u001b[0m\u001b[1;33m,\u001b[0m \u001b[0mtarget\u001b[0m\u001b[1;33m,\u001b[0m \u001b[1;36m1.\u001b[0m \u001b[1;33m/\u001b[0m \u001b[0mC\u001b[0m\u001b[1;33m,\u001b[0m \u001b[0msample_weight\u001b[0m\u001b[1;33m)\u001b[0m\u001b[1;33m,\u001b[0m\u001b[1;33m\u001b[0m\u001b[1;33m\u001b[0m\u001b[0m\n\u001b[1;32m--> 760\u001b[1;33m                 \u001b[0moptions\u001b[0m\u001b[1;33m=\u001b[0m\u001b[1;33m{\u001b[0m\u001b[1;34m\"iprint\"\u001b[0m\u001b[1;33m:\u001b[0m \u001b[0miprint\u001b[0m\u001b[1;33m,\u001b[0m \u001b[1;34m\"gtol\"\u001b[0m\u001b[1;33m:\u001b[0m \u001b[0mtol\u001b[0m\u001b[1;33m,\u001b[0m \u001b[1;34m\"maxiter\"\u001b[0m\u001b[1;33m:\u001b[0m \u001b[0mmax_iter\u001b[0m\u001b[1;33m}\u001b[0m\u001b[1;33m\u001b[0m\u001b[1;33m\u001b[0m\u001b[0m\n\u001b[0m\u001b[0;32m    761\u001b[0m             )\n\u001b[0;32m    762\u001b[0m             n_iter_i = _check_optimize_result(\n",
      "\u001b[1;32m~\\Anaconda3\\lib\\site-packages\\scipy\\optimize\\_minimize.py\u001b[0m in \u001b[0;36mminimize\u001b[1;34m(fun, x0, args, method, jac, hess, hessp, bounds, constraints, tol, callback, options)\u001b[0m\n\u001b[0;32m    598\u001b[0m     \u001b[1;32melif\u001b[0m \u001b[0mmeth\u001b[0m \u001b[1;33m==\u001b[0m \u001b[1;34m'l-bfgs-b'\u001b[0m\u001b[1;33m:\u001b[0m\u001b[1;33m\u001b[0m\u001b[1;33m\u001b[0m\u001b[0m\n\u001b[0;32m    599\u001b[0m         return _minimize_lbfgsb(fun, x0, args, jac, bounds,\n\u001b[1;32m--> 600\u001b[1;33m                                 callback=callback, **options)\n\u001b[0m\u001b[0;32m    601\u001b[0m     \u001b[1;32melif\u001b[0m \u001b[0mmeth\u001b[0m \u001b[1;33m==\u001b[0m \u001b[1;34m'tnc'\u001b[0m\u001b[1;33m:\u001b[0m\u001b[1;33m\u001b[0m\u001b[1;33m\u001b[0m\u001b[0m\n\u001b[0;32m    602\u001b[0m         return _minimize_tnc(fun, x0, args, jac, bounds, callback=callback,\n",
      "\u001b[1;32m~\\Anaconda3\\lib\\site-packages\\scipy\\optimize\\lbfgsb.py\u001b[0m in \u001b[0;36m_minimize_lbfgsb\u001b[1;34m(fun, x0, args, jac, bounds, disp, maxcor, ftol, gtol, eps, maxfun, maxiter, iprint, callback, maxls, **unknown_options)\u001b[0m\n\u001b[0;32m    333\u001b[0m             \u001b[1;31m# until the completion of the current minimization iteration.\u001b[0m\u001b[1;33m\u001b[0m\u001b[1;33m\u001b[0m\u001b[1;33m\u001b[0m\u001b[0m\n\u001b[0;32m    334\u001b[0m             \u001b[1;31m# Overwrite f and g:\u001b[0m\u001b[1;33m\u001b[0m\u001b[1;33m\u001b[0m\u001b[1;33m\u001b[0m\u001b[0m\n\u001b[1;32m--> 335\u001b[1;33m             \u001b[0mf\u001b[0m\u001b[1;33m,\u001b[0m \u001b[0mg\u001b[0m \u001b[1;33m=\u001b[0m \u001b[0mfunc_and_grad\u001b[0m\u001b[1;33m(\u001b[0m\u001b[0mx\u001b[0m\u001b[1;33m)\u001b[0m\u001b[1;33m\u001b[0m\u001b[1;33m\u001b[0m\u001b[0m\n\u001b[0m\u001b[0;32m    336\u001b[0m         \u001b[1;32melif\u001b[0m \u001b[0mtask_str\u001b[0m\u001b[1;33m.\u001b[0m\u001b[0mstartswith\u001b[0m\u001b[1;33m(\u001b[0m\u001b[1;34mb'NEW_X'\u001b[0m\u001b[1;33m)\u001b[0m\u001b[1;33m:\u001b[0m\u001b[1;33m\u001b[0m\u001b[1;33m\u001b[0m\u001b[0m\n\u001b[0;32m    337\u001b[0m             \u001b[1;31m# new iteration\u001b[0m\u001b[1;33m\u001b[0m\u001b[1;33m\u001b[0m\u001b[1;33m\u001b[0m\u001b[0m\n",
      "\u001b[1;32m~\\Anaconda3\\lib\\site-packages\\scipy\\optimize\\lbfgsb.py\u001b[0m in \u001b[0;36mfunc_and_grad\u001b[1;34m(x)\u001b[0m\n\u001b[0;32m    283\u001b[0m     \u001b[1;32melse\u001b[0m\u001b[1;33m:\u001b[0m\u001b[1;33m\u001b[0m\u001b[1;33m\u001b[0m\u001b[0m\n\u001b[0;32m    284\u001b[0m         \u001b[1;32mdef\u001b[0m \u001b[0mfunc_and_grad\u001b[0m\u001b[1;33m(\u001b[0m\u001b[0mx\u001b[0m\u001b[1;33m)\u001b[0m\u001b[1;33m:\u001b[0m\u001b[1;33m\u001b[0m\u001b[1;33m\u001b[0m\u001b[0m\n\u001b[1;32m--> 285\u001b[1;33m             \u001b[0mf\u001b[0m \u001b[1;33m=\u001b[0m \u001b[0mfun\u001b[0m\u001b[1;33m(\u001b[0m\u001b[0mx\u001b[0m\u001b[1;33m,\u001b[0m \u001b[1;33m*\u001b[0m\u001b[0margs\u001b[0m\u001b[1;33m)\u001b[0m\u001b[1;33m\u001b[0m\u001b[1;33m\u001b[0m\u001b[0m\n\u001b[0m\u001b[0;32m    286\u001b[0m             \u001b[0mg\u001b[0m \u001b[1;33m=\u001b[0m \u001b[0mjac\u001b[0m\u001b[1;33m(\u001b[0m\u001b[0mx\u001b[0m\u001b[1;33m,\u001b[0m \u001b[1;33m*\u001b[0m\u001b[0margs\u001b[0m\u001b[1;33m)\u001b[0m\u001b[1;33m\u001b[0m\u001b[1;33m\u001b[0m\u001b[0m\n\u001b[0;32m    287\u001b[0m             \u001b[1;32mreturn\u001b[0m \u001b[0mf\u001b[0m\u001b[1;33m,\u001b[0m \u001b[0mg\u001b[0m\u001b[1;33m\u001b[0m\u001b[1;33m\u001b[0m\u001b[0m\n",
      "\u001b[1;32m~\\Anaconda3\\lib\\site-packages\\scipy\\optimize\\optimize.py\u001b[0m in \u001b[0;36mfunction_wrapper\u001b[1;34m(*wrapper_args)\u001b[0m\n\u001b[0;32m    324\u001b[0m     \u001b[1;32mdef\u001b[0m \u001b[0mfunction_wrapper\u001b[0m\u001b[1;33m(\u001b[0m\u001b[1;33m*\u001b[0m\u001b[0mwrapper_args\u001b[0m\u001b[1;33m)\u001b[0m\u001b[1;33m:\u001b[0m\u001b[1;33m\u001b[0m\u001b[1;33m\u001b[0m\u001b[0m\n\u001b[0;32m    325\u001b[0m         \u001b[0mncalls\u001b[0m\u001b[1;33m[\u001b[0m\u001b[1;36m0\u001b[0m\u001b[1;33m]\u001b[0m \u001b[1;33m+=\u001b[0m \u001b[1;36m1\u001b[0m\u001b[1;33m\u001b[0m\u001b[1;33m\u001b[0m\u001b[0m\n\u001b[1;32m--> 326\u001b[1;33m         \u001b[1;32mreturn\u001b[0m \u001b[0mfunction\u001b[0m\u001b[1;33m(\u001b[0m\u001b[1;33m*\u001b[0m\u001b[1;33m(\u001b[0m\u001b[0mwrapper_args\u001b[0m \u001b[1;33m+\u001b[0m \u001b[0margs\u001b[0m\u001b[1;33m)\u001b[0m\u001b[1;33m)\u001b[0m\u001b[1;33m\u001b[0m\u001b[1;33m\u001b[0m\u001b[0m\n\u001b[0m\u001b[0;32m    327\u001b[0m \u001b[1;33m\u001b[0m\u001b[0m\n\u001b[0;32m    328\u001b[0m     \u001b[1;32mreturn\u001b[0m \u001b[0mncalls\u001b[0m\u001b[1;33m,\u001b[0m \u001b[0mfunction_wrapper\u001b[0m\u001b[1;33m\u001b[0m\u001b[1;33m\u001b[0m\u001b[0m\n",
      "\u001b[1;32m~\\Anaconda3\\lib\\site-packages\\scipy\\optimize\\optimize.py\u001b[0m in \u001b[0;36m__call__\u001b[1;34m(self, x, *args)\u001b[0m\n\u001b[0;32m     62\u001b[0m     \u001b[1;32mdef\u001b[0m \u001b[0m__call__\u001b[0m\u001b[1;33m(\u001b[0m\u001b[0mself\u001b[0m\u001b[1;33m,\u001b[0m \u001b[0mx\u001b[0m\u001b[1;33m,\u001b[0m \u001b[1;33m*\u001b[0m\u001b[0margs\u001b[0m\u001b[1;33m)\u001b[0m\u001b[1;33m:\u001b[0m\u001b[1;33m\u001b[0m\u001b[1;33m\u001b[0m\u001b[0m\n\u001b[0;32m     63\u001b[0m         \u001b[0mself\u001b[0m\u001b[1;33m.\u001b[0m\u001b[0mx\u001b[0m \u001b[1;33m=\u001b[0m \u001b[0mnumpy\u001b[0m\u001b[1;33m.\u001b[0m\u001b[0masarray\u001b[0m\u001b[1;33m(\u001b[0m\u001b[0mx\u001b[0m\u001b[1;33m)\u001b[0m\u001b[1;33m.\u001b[0m\u001b[0mcopy\u001b[0m\u001b[1;33m(\u001b[0m\u001b[1;33m)\u001b[0m\u001b[1;33m\u001b[0m\u001b[1;33m\u001b[0m\u001b[0m\n\u001b[1;32m---> 64\u001b[1;33m         \u001b[0mfg\u001b[0m \u001b[1;33m=\u001b[0m \u001b[0mself\u001b[0m\u001b[1;33m.\u001b[0m\u001b[0mfun\u001b[0m\u001b[1;33m(\u001b[0m\u001b[0mx\u001b[0m\u001b[1;33m,\u001b[0m \u001b[1;33m*\u001b[0m\u001b[0margs\u001b[0m\u001b[1;33m)\u001b[0m\u001b[1;33m\u001b[0m\u001b[1;33m\u001b[0m\u001b[0m\n\u001b[0m\u001b[0;32m     65\u001b[0m         \u001b[0mself\u001b[0m\u001b[1;33m.\u001b[0m\u001b[0mjac\u001b[0m \u001b[1;33m=\u001b[0m \u001b[0mfg\u001b[0m\u001b[1;33m[\u001b[0m\u001b[1;36m1\u001b[0m\u001b[1;33m]\u001b[0m\u001b[1;33m\u001b[0m\u001b[1;33m\u001b[0m\u001b[0m\n\u001b[0;32m     66\u001b[0m         \u001b[1;32mreturn\u001b[0m \u001b[0mfg\u001b[0m\u001b[1;33m[\u001b[0m\u001b[1;36m0\u001b[0m\u001b[1;33m]\u001b[0m\u001b[1;33m\u001b[0m\u001b[1;33m\u001b[0m\u001b[0m\n",
      "\u001b[1;32m~\\Anaconda3\\lib\\site-packages\\sklearn\\linear_model\\_logistic.py\u001b[0m in \u001b[0;36m_logistic_loss_and_grad\u001b[1;34m(w, X, y, alpha, sample_weight)\u001b[0m\n\u001b[0;32m    125\u001b[0m     \u001b[0mz0\u001b[0m \u001b[1;33m=\u001b[0m \u001b[0msample_weight\u001b[0m \u001b[1;33m*\u001b[0m \u001b[1;33m(\u001b[0m\u001b[0mz\u001b[0m \u001b[1;33m-\u001b[0m \u001b[1;36m1\u001b[0m\u001b[1;33m)\u001b[0m \u001b[1;33m*\u001b[0m \u001b[0my\u001b[0m\u001b[1;33m\u001b[0m\u001b[1;33m\u001b[0m\u001b[0m\n\u001b[0;32m    126\u001b[0m \u001b[1;33m\u001b[0m\u001b[0m\n\u001b[1;32m--> 127\u001b[1;33m     \u001b[0mgrad\u001b[0m\u001b[1;33m[\u001b[0m\u001b[1;33m:\u001b[0m\u001b[0mn_features\u001b[0m\u001b[1;33m]\u001b[0m \u001b[1;33m=\u001b[0m \u001b[0msafe_sparse_dot\u001b[0m\u001b[1;33m(\u001b[0m\u001b[0mX\u001b[0m\u001b[1;33m.\u001b[0m\u001b[0mT\u001b[0m\u001b[1;33m,\u001b[0m \u001b[0mz0\u001b[0m\u001b[1;33m)\u001b[0m \u001b[1;33m+\u001b[0m \u001b[0malpha\u001b[0m \u001b[1;33m*\u001b[0m \u001b[0mw\u001b[0m\u001b[1;33m\u001b[0m\u001b[1;33m\u001b[0m\u001b[0m\n\u001b[0m\u001b[0;32m    128\u001b[0m \u001b[1;33m\u001b[0m\u001b[0m\n\u001b[0;32m    129\u001b[0m     \u001b[1;31m# Case where we fit the intercept.\u001b[0m\u001b[1;33m\u001b[0m\u001b[1;33m\u001b[0m\u001b[1;33m\u001b[0m\u001b[0m\n",
      "\u001b[1;32m~\\Anaconda3\\lib\\site-packages\\sklearn\\utils\\validation.py\u001b[0m in \u001b[0;36minner_f\u001b[1;34m(*args, **kwargs)\u001b[0m\n\u001b[0;32m     71\u001b[0m                           FutureWarning)\n\u001b[0;32m     72\u001b[0m         \u001b[0mkwargs\u001b[0m\u001b[1;33m.\u001b[0m\u001b[0mupdate\u001b[0m\u001b[1;33m(\u001b[0m\u001b[1;33m{\u001b[0m\u001b[0mk\u001b[0m\u001b[1;33m:\u001b[0m \u001b[0marg\u001b[0m \u001b[1;32mfor\u001b[0m \u001b[0mk\u001b[0m\u001b[1;33m,\u001b[0m \u001b[0marg\u001b[0m \u001b[1;32min\u001b[0m \u001b[0mzip\u001b[0m\u001b[1;33m(\u001b[0m\u001b[0msig\u001b[0m\u001b[1;33m.\u001b[0m\u001b[0mparameters\u001b[0m\u001b[1;33m,\u001b[0m \u001b[0margs\u001b[0m\u001b[1;33m)\u001b[0m\u001b[1;33m}\u001b[0m\u001b[1;33m)\u001b[0m\u001b[1;33m\u001b[0m\u001b[1;33m\u001b[0m\u001b[0m\n\u001b[1;32m---> 73\u001b[1;33m         \u001b[1;32mreturn\u001b[0m \u001b[0mf\u001b[0m\u001b[1;33m(\u001b[0m\u001b[1;33m**\u001b[0m\u001b[0mkwargs\u001b[0m\u001b[1;33m)\u001b[0m\u001b[1;33m\u001b[0m\u001b[1;33m\u001b[0m\u001b[0m\n\u001b[0m\u001b[0;32m     74\u001b[0m     \u001b[1;32mreturn\u001b[0m \u001b[0minner_f\u001b[0m\u001b[1;33m\u001b[0m\u001b[1;33m\u001b[0m\u001b[0m\n\u001b[0;32m     75\u001b[0m \u001b[1;33m\u001b[0m\u001b[0m\n",
      "\u001b[1;32m~\\Anaconda3\\lib\\site-packages\\sklearn\\utils\\extmath.py\u001b[0m in \u001b[0;36msafe_sparse_dot\u001b[1;34m(a, b, dense_output)\u001b[0m\n\u001b[0;32m    153\u001b[0m         \u001b[0mret\u001b[0m \u001b[1;33m=\u001b[0m \u001b[0ma\u001b[0m \u001b[1;33m@\u001b[0m \u001b[0mb\u001b[0m\u001b[1;33m\u001b[0m\u001b[1;33m\u001b[0m\u001b[0m\n\u001b[0;32m    154\u001b[0m \u001b[1;33m\u001b[0m\u001b[0m\n\u001b[1;32m--> 155\u001b[1;33m     if (sparse.issparse(a) and sparse.issparse(b)\n\u001b[0m\u001b[0;32m    156\u001b[0m             and dense_output and hasattr(ret, \"toarray\")):\n\u001b[0;32m    157\u001b[0m         \u001b[1;32mreturn\u001b[0m \u001b[0mret\u001b[0m\u001b[1;33m.\u001b[0m\u001b[0mtoarray\u001b[0m\u001b[1;33m(\u001b[0m\u001b[1;33m)\u001b[0m\u001b[1;33m\u001b[0m\u001b[1;33m\u001b[0m\u001b[0m\n",
      "\u001b[1;31mKeyboardInterrupt\u001b[0m: "
     ]
    }
   ],
   "source": [
    "model = LogisticRegression()\n",
    "rfe = RFE(model, 30)\n",
    "fit = rfe.fit(final_df_train.iloc[:,1:], final_df_train.iloc[:,0])\n",
    "support_rfe = rfe.support_\n",
    "length_cols = list(final_df_train.iloc[:,1:].columns.values)\n",
    "list_selected = []\n",
    "for index in range(len(length_cols)):\n",
    "    if support_rfe[index] == True:\n",
    "        list_selected.append(length_cols[index])\n",
    "    else:\n",
    "        pass\n",
    "print(list_selected)\n",
    "print(rfe.ranking_)     # ref.ranking_ returns an array with positive integer values \n",
    "                         # to indicate the attribute ranking with a lower score indicating a higher ranking "
   ]
  },
  {
   "cell_type": "code",
   "execution_count": null,
   "metadata": {
    "_uuid": "cce676cd8ba9f41b6a22090e906b56b866f21740"
   },
   "outputs": [],
   "source": [
    "unique_listcols = [col.split('_')[0] for col in list_selected]\n",
    "set(unique_listcols)"
   ]
  },
  {
   "cell_type": "markdown",
   "metadata": {
    "_uuid": "939fca3b7169435d7ca9feb18f82bdc3779fd761"
   },
   "source": [
    "Splitting into training and test data"
   ]
  },
  {
   "cell_type": "code",
   "execution_count": null,
   "metadata": {
    "_uuid": "1464f5e91387ed1744d3fc0d93491a52d12304f0"
   },
   "outputs": [],
   "source": [
    "X_train, X_test, y_train, y_test = train_test_split(final_df_train.iloc[:,1:], final_df_train.iloc[:, 0], test_size = 0.20, random_state=1)\n",
    "#y_train[y_train==1].shape\n",
    "y_test[y_test==1].shape"
   ]
  },
  {
   "cell_type": "code",
   "execution_count": null,
   "metadata": {
    "_uuid": "9114b0545212e811b23614b93254daa7b84d5f7f"
   },
   "outputs": [],
   "source": [
    "X_train.head()"
   ]
  },
  {
   "cell_type": "markdown",
   "metadata": {
    "_uuid": "ab0b3df487ffc8982a61b4c9f7d4e7198bf8d225"
   },
   "source": [
    "# Training classifiers"
   ]
  },
  {
   "cell_type": "markdown",
   "metadata": {
    "_uuid": "522c94086cfa5788c8c3988d3612b43b72c33fc4"
   },
   "source": [
    "## Decision Tree Model"
   ]
  },
  {
   "cell_type": "code",
   "execution_count": null,
   "metadata": {
    "_uuid": "12411dd7a9b6bd09ac0c5e4d51eccfd4d4ec2a32",
    "collapsed": true
   },
   "outputs": [],
   "source": [
    "dtree = tree.DecisionTreeClassifier()\n",
    "dtree = dtree.fit(X_train, y_train)   "
   ]
  },
  {
   "cell_type": "code",
   "execution_count": null,
   "metadata": {
    "_uuid": "85bb13365465d1406552eae88da4796b1956466d",
    "collapsed": true
   },
   "outputs": [],
   "source": [
    "y_pred = dtree.predict(X_test)\n",
    "\n",
    "y_prob = dtree.predict_proba(X_test)\n",
    "\n",
    "print(\"test\", y_test[:10])\n",
    "print(\"pred\", y_pred[:10])\n",
    "print()\n",
    "\n",
    "print(metrics.confusion_matrix(y_test,y_pred))\n",
    "print(metrics.classification_report(y_test, y_pred))\n",
    "#print(metrics.precision_score(y_test,y_pred))   # Parameter \"average\" is requred if not a binary model\n",
    "#print(metrics.recall_score(y_test,y_pred))      # Parameter \"average\" is requred if not a binary model\n",
    "#print(metrics.f1_score(y_test,y_pred))  "
   ]
  },
  {
   "cell_type": "markdown",
   "metadata": {
    "_uuid": "b862b6be2205fc57ac2be10157dbd97934c4940a"
   },
   "source": [
    "## Logistic Regression Model"
   ]
  },
  {
   "cell_type": "code",
   "execution_count": null,
   "metadata": {
    "_uuid": "af900f364bbde301c923a75fac846049cdb0a670",
    "collapsed": true
   },
   "outputs": [],
   "source": [
    "lr_clf = linear_model.LogisticRegression()\n",
    "lr_clf.fit(X_train, y_train)  "
   ]
  },
  {
   "cell_type": "code",
   "execution_count": null,
   "metadata": {
    "_uuid": "133ca70e477864e6e8388e31ec4ec282683c9e2b",
    "collapsed": true
   },
   "outputs": [],
   "source": [
    "y_pred_lr = lr_clf.predict(X_test)\n",
    "\n",
    "probs = lr_clf.predict_proba(X_test)\n",
    "\n",
    "print(\"test\", y_test[:10])\n",
    "print(\"pred\", y_pred_lr[:10])\n",
    "\n",
    "print(metrics.confusion_matrix(y_test,y_pred_lr))\n",
    "print(metrics.classification_report(y_test, y_pred_lr))\n",
    "#print(metrics.precision_score(y_test,y_pred))   # Parameter \"average\" is requred if not a binary model\n",
    "#print(metrics.recall_score(y_test,y_pred))      # Parameter \"average\" is requred if not a binary model\n",
    "#print(metrics.f1_score(y_test,y_pred))"
   ]
  },
  {
   "cell_type": "markdown",
   "metadata": {
    "_uuid": "e51e87829a385e0016a795a0e0b54729a2f4acde"
   },
   "source": [
    "## Random Forest Classifier"
   ]
  },
  {
   "cell_type": "code",
   "execution_count": null,
   "metadata": {
    "_uuid": "e466a664bbf5f70ad2fe2c926157babbebca113b",
    "collapsed": true
   },
   "outputs": [],
   "source": [
    "rf = RandomForestClassifier(n_estimators = 75, random_state = 50)\n",
    "# Train the model on training data\n",
    "rf.fit(X_train, y_train)"
   ]
  },
  {
   "cell_type": "code",
   "execution_count": null,
   "metadata": {
    "_uuid": "dfeb5717dbb26dba1274e2c13acdc5cae95d665b",
    "collapsed": true
   },
   "outputs": [],
   "source": [
    "y_pred_rf =  rf.predict(X_test)\n",
    "probs = rf.predict_proba(X_test)\n",
    "\n",
    "print(\"test\", y_test[:10])\n",
    "print(\"pred\", y_pred[:10])\n",
    "print(metrics.confusion_matrix(y_test,y_pred_rf))\n",
    "print(metrics.classification_report(y_test, y_pred_rf))\n",
    "#print(metrics.precision_score(y_test,y_pred_rf))   # Parameter \"average\" is requred if not a binary model\n",
    "#print(metrics.recall_score(y_test,y_pred))\n",
    "#print(metrics.f1_score(y_test, y_pred))# Parameter \"average\" is requred if not a binary model"
   ]
  },
  {
   "cell_type": "markdown",
   "metadata": {
    "_uuid": "bbc77ce85efa63d15cb2c29499a1954941c83281"
   },
   "source": [
    "## Artificial Neural Networks"
   ]
  },
  {
   "cell_type": "code",
   "execution_count": null,
   "metadata": {
    "_uuid": "7e5dbc3c59eb2c3e1cb026a1cf0f262af82dd91d",
    "collapsed": true
   },
   "outputs": [],
   "source": [
    "mlp = MLPClassifier(hidden_layer_sizes=(20,20,20,20,20), max_iter=1000)\n",
    "mlp.fit(X_train, y_train)"
   ]
  },
  {
   "cell_type": "code",
   "execution_count": null,
   "metadata": {
    "_uuid": "c9cab182f3e63dc9e0f12e5e6d6f6264b4f87931",
    "collapsed": true
   },
   "outputs": [],
   "source": [
    "y_pred_mlp = mlp.predict(X_test)\n",
    "confusion = metrics.confusion_matrix(y_test, y_pred_mlp)\n",
    "print(confusion)\n",
    "print(metrics.classification_report(y_test, y_pred_mlp))\n",
    "#print(metrics.recall_score(y_test, y_pred))\n",
    "#print(metrics.f1_score(y_test, y_pred))"
   ]
  },
  {
   "cell_type": "markdown",
   "metadata": {
    "_uuid": "15ec5fc4085e0f99ca1ee029275eb71941f9bf14"
   },
   "source": [
    "## Gaussian Naive Bayes Classifier"
   ]
  },
  {
   "cell_type": "code",
   "execution_count": null,
   "metadata": {
    "_uuid": "f80f012361021d7c54f5f81c82439b73b4ca9577",
    "collapsed": true
   },
   "outputs": [],
   "source": [
    "gaus_clf = GaussianNB()\n",
    "gaus_clf.fit(X_train, y_train)"
   ]
  },
  {
   "cell_type": "code",
   "execution_count": null,
   "metadata": {
    "_uuid": "651efd7350439b5361970b997fc1519fdcf45a30",
    "collapsed": true
   },
   "outputs": [],
   "source": [
    "y_pred_glb = gaus_clf.predict(X_test)\n",
    "confusion = metrics.confusion_matrix(y_test, y_pred_glb)\n",
    "print(confusion)\n",
    "print(metrics.classification_report(y_test, y_pred_glb))"
   ]
  }
 ],
 "metadata": {
  "kernelspec": {
   "display_name": "Python 3",
   "language": "python",
   "name": "python3"
  },
  "language_info": {
   "codemirror_mode": {
    "name": "ipython",
    "version": 3
   },
   "file_extension": ".py",
   "mimetype": "text/x-python",
   "name": "python",
   "nbconvert_exporter": "python",
   "pygments_lexer": "ipython3",
   "version": "3.7.4"
  }
 },
 "nbformat": 4,
 "nbformat_minor": 1
}
